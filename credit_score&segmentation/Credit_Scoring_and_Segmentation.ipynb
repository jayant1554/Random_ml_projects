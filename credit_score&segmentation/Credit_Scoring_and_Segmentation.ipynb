{
  "nbformat": 4,
  "nbformat_minor": 0,
  "metadata": {
    "colab": {
      "provenance": []
    },
    "kernelspec": {
      "name": "python3",
      "display_name": "Python 3"
    },
    "language_info": {
      "name": "python"
    }
  },
  "cells": [
    {
      "cell_type": "code",
      "execution_count": null,
      "metadata": {
        "id": "8T_bOSU_v15I"
      },
      "outputs": [],
      "source": []
    },
    {
      "cell_type": "code",
      "source": [
        "import pandas as pd\n",
        "import numpy as np\n",
        "import plotly.graph_objects as go\n",
        "import plotly.express as px\n",
        "import plotly.io as pio"
      ],
      "metadata": {
        "id": "F6p-8VGBx811"
      },
      "execution_count": 1,
      "outputs": []
    },
    {
      "cell_type": "code",
      "source": [
        "data=pd.read_csv(\"credit_scoring.csv\")"
      ],
      "metadata": {
        "id": "-sAgXUyMyrVz"
      },
      "execution_count": 2,
      "outputs": []
    },
    {
      "cell_type": "code",
      "source": [
        "data.head()"
      ],
      "metadata": {
        "colab": {
          "base_uri": "https://localhost:8080/",
          "height": 258
        },
        "id": "mpk9OQ06y3HI",
        "outputId": "a45464ea-07ca-402b-e34e-89511c337619"
      },
      "execution_count": 3,
      "outputs": [
        {
          "output_type": "execute_result",
          "data": {
            "text/plain": [
              "   Age  Gender Marital Status Education Level Employment Status  \\\n",
              "0   60    Male        Married          Master          Employed   \n",
              "1   25    Male        Married     High School        Unemployed   \n",
              "2   30  Female         Single          Master          Employed   \n",
              "3   58  Female        Married             PhD        Unemployed   \n",
              "4   32    Male        Married        Bachelor     Self-Employed   \n",
              "\n",
              "   Credit Utilization Ratio  Payment History  Number of Credit Accounts  \\\n",
              "0                      0.22           2685.0                          2   \n",
              "1                      0.20           2371.0                          9   \n",
              "2                      0.22           2771.0                          6   \n",
              "3                      0.12           1371.0                          2   \n",
              "4                      0.99            828.0                          2   \n",
              "\n",
              "   Loan Amount  Interest Rate  Loan Term   Type of Loan  \n",
              "0      4675000           2.65         48  Personal Loan  \n",
              "1      3619000           5.19         60      Auto Loan  \n",
              "2       957000           2.76         12      Auto Loan  \n",
              "3      4731000           6.57         60      Auto Loan  \n",
              "4      3289000           6.28         36  Personal Loan  "
            ],
            "text/html": [
              "\n",
              "  <div id=\"df-27956df8-e960-4afe-99dc-dcc993be27d3\" class=\"colab-df-container\">\n",
              "    <div>\n",
              "<style scoped>\n",
              "    .dataframe tbody tr th:only-of-type {\n",
              "        vertical-align: middle;\n",
              "    }\n",
              "\n",
              "    .dataframe tbody tr th {\n",
              "        vertical-align: top;\n",
              "    }\n",
              "\n",
              "    .dataframe thead th {\n",
              "        text-align: right;\n",
              "    }\n",
              "</style>\n",
              "<table border=\"1\" class=\"dataframe\">\n",
              "  <thead>\n",
              "    <tr style=\"text-align: right;\">\n",
              "      <th></th>\n",
              "      <th>Age</th>\n",
              "      <th>Gender</th>\n",
              "      <th>Marital Status</th>\n",
              "      <th>Education Level</th>\n",
              "      <th>Employment Status</th>\n",
              "      <th>Credit Utilization Ratio</th>\n",
              "      <th>Payment History</th>\n",
              "      <th>Number of Credit Accounts</th>\n",
              "      <th>Loan Amount</th>\n",
              "      <th>Interest Rate</th>\n",
              "      <th>Loan Term</th>\n",
              "      <th>Type of Loan</th>\n",
              "    </tr>\n",
              "  </thead>\n",
              "  <tbody>\n",
              "    <tr>\n",
              "      <th>0</th>\n",
              "      <td>60</td>\n",
              "      <td>Male</td>\n",
              "      <td>Married</td>\n",
              "      <td>Master</td>\n",
              "      <td>Employed</td>\n",
              "      <td>0.22</td>\n",
              "      <td>2685.0</td>\n",
              "      <td>2</td>\n",
              "      <td>4675000</td>\n",
              "      <td>2.65</td>\n",
              "      <td>48</td>\n",
              "      <td>Personal Loan</td>\n",
              "    </tr>\n",
              "    <tr>\n",
              "      <th>1</th>\n",
              "      <td>25</td>\n",
              "      <td>Male</td>\n",
              "      <td>Married</td>\n",
              "      <td>High School</td>\n",
              "      <td>Unemployed</td>\n",
              "      <td>0.20</td>\n",
              "      <td>2371.0</td>\n",
              "      <td>9</td>\n",
              "      <td>3619000</td>\n",
              "      <td>5.19</td>\n",
              "      <td>60</td>\n",
              "      <td>Auto Loan</td>\n",
              "    </tr>\n",
              "    <tr>\n",
              "      <th>2</th>\n",
              "      <td>30</td>\n",
              "      <td>Female</td>\n",
              "      <td>Single</td>\n",
              "      <td>Master</td>\n",
              "      <td>Employed</td>\n",
              "      <td>0.22</td>\n",
              "      <td>2771.0</td>\n",
              "      <td>6</td>\n",
              "      <td>957000</td>\n",
              "      <td>2.76</td>\n",
              "      <td>12</td>\n",
              "      <td>Auto Loan</td>\n",
              "    </tr>\n",
              "    <tr>\n",
              "      <th>3</th>\n",
              "      <td>58</td>\n",
              "      <td>Female</td>\n",
              "      <td>Married</td>\n",
              "      <td>PhD</td>\n",
              "      <td>Unemployed</td>\n",
              "      <td>0.12</td>\n",
              "      <td>1371.0</td>\n",
              "      <td>2</td>\n",
              "      <td>4731000</td>\n",
              "      <td>6.57</td>\n",
              "      <td>60</td>\n",
              "      <td>Auto Loan</td>\n",
              "    </tr>\n",
              "    <tr>\n",
              "      <th>4</th>\n",
              "      <td>32</td>\n",
              "      <td>Male</td>\n",
              "      <td>Married</td>\n",
              "      <td>Bachelor</td>\n",
              "      <td>Self-Employed</td>\n",
              "      <td>0.99</td>\n",
              "      <td>828.0</td>\n",
              "      <td>2</td>\n",
              "      <td>3289000</td>\n",
              "      <td>6.28</td>\n",
              "      <td>36</td>\n",
              "      <td>Personal Loan</td>\n",
              "    </tr>\n",
              "  </tbody>\n",
              "</table>\n",
              "</div>\n",
              "    <div class=\"colab-df-buttons\">\n",
              "\n",
              "  <div class=\"colab-df-container\">\n",
              "    <button class=\"colab-df-convert\" onclick=\"convertToInteractive('df-27956df8-e960-4afe-99dc-dcc993be27d3')\"\n",
              "            title=\"Convert this dataframe to an interactive table.\"\n",
              "            style=\"display:none;\">\n",
              "\n",
              "  <svg xmlns=\"http://www.w3.org/2000/svg\" height=\"24px\" viewBox=\"0 -960 960 960\">\n",
              "    <path d=\"M120-120v-720h720v720H120Zm60-500h600v-160H180v160Zm220 220h160v-160H400v160Zm0 220h160v-160H400v160ZM180-400h160v-160H180v160Zm440 0h160v-160H620v160ZM180-180h160v-160H180v160Zm440 0h160v-160H620v160Z\"/>\n",
              "  </svg>\n",
              "    </button>\n",
              "\n",
              "  <style>\n",
              "    .colab-df-container {\n",
              "      display:flex;\n",
              "      gap: 12px;\n",
              "    }\n",
              "\n",
              "    .colab-df-convert {\n",
              "      background-color: #E8F0FE;\n",
              "      border: none;\n",
              "      border-radius: 50%;\n",
              "      cursor: pointer;\n",
              "      display: none;\n",
              "      fill: #1967D2;\n",
              "      height: 32px;\n",
              "      padding: 0 0 0 0;\n",
              "      width: 32px;\n",
              "    }\n",
              "\n",
              "    .colab-df-convert:hover {\n",
              "      background-color: #E2EBFA;\n",
              "      box-shadow: 0px 1px 2px rgba(60, 64, 67, 0.3), 0px 1px 3px 1px rgba(60, 64, 67, 0.15);\n",
              "      fill: #174EA6;\n",
              "    }\n",
              "\n",
              "    .colab-df-buttons div {\n",
              "      margin-bottom: 4px;\n",
              "    }\n",
              "\n",
              "    [theme=dark] .colab-df-convert {\n",
              "      background-color: #3B4455;\n",
              "      fill: #D2E3FC;\n",
              "    }\n",
              "\n",
              "    [theme=dark] .colab-df-convert:hover {\n",
              "      background-color: #434B5C;\n",
              "      box-shadow: 0px 1px 3px 1px rgba(0, 0, 0, 0.15);\n",
              "      filter: drop-shadow(0px 1px 2px rgba(0, 0, 0, 0.3));\n",
              "      fill: #FFFFFF;\n",
              "    }\n",
              "  </style>\n",
              "\n",
              "    <script>\n",
              "      const buttonEl =\n",
              "        document.querySelector('#df-27956df8-e960-4afe-99dc-dcc993be27d3 button.colab-df-convert');\n",
              "      buttonEl.style.display =\n",
              "        google.colab.kernel.accessAllowed ? 'block' : 'none';\n",
              "\n",
              "      async function convertToInteractive(key) {\n",
              "        const element = document.querySelector('#df-27956df8-e960-4afe-99dc-dcc993be27d3');\n",
              "        const dataTable =\n",
              "          await google.colab.kernel.invokeFunction('convertToInteractive',\n",
              "                                                    [key], {});\n",
              "        if (!dataTable) return;\n",
              "\n",
              "        const docLinkHtml = 'Like what you see? Visit the ' +\n",
              "          '<a target=\"_blank\" href=https://colab.research.google.com/notebooks/data_table.ipynb>data table notebook</a>'\n",
              "          + ' to learn more about interactive tables.';\n",
              "        element.innerHTML = '';\n",
              "        dataTable['output_type'] = 'display_data';\n",
              "        await google.colab.output.renderOutput(dataTable, element);\n",
              "        const docLink = document.createElement('div');\n",
              "        docLink.innerHTML = docLinkHtml;\n",
              "        element.appendChild(docLink);\n",
              "      }\n",
              "    </script>\n",
              "  </div>\n",
              "\n",
              "\n",
              "<div id=\"df-3e90181e-b4bf-4c81-b559-85c7d24d8653\">\n",
              "  <button class=\"colab-df-quickchart\" onclick=\"quickchart('df-3e90181e-b4bf-4c81-b559-85c7d24d8653')\"\n",
              "            title=\"Suggest charts\"\n",
              "            style=\"display:none;\">\n",
              "\n",
              "<svg xmlns=\"http://www.w3.org/2000/svg\" height=\"24px\"viewBox=\"0 0 24 24\"\n",
              "     width=\"24px\">\n",
              "    <g>\n",
              "        <path d=\"M19 3H5c-1.1 0-2 .9-2 2v14c0 1.1.9 2 2 2h14c1.1 0 2-.9 2-2V5c0-1.1-.9-2-2-2zM9 17H7v-7h2v7zm4 0h-2V7h2v10zm4 0h-2v-4h2v4z\"/>\n",
              "    </g>\n",
              "</svg>\n",
              "  </button>\n",
              "\n",
              "<style>\n",
              "  .colab-df-quickchart {\n",
              "      --bg-color: #E8F0FE;\n",
              "      --fill-color: #1967D2;\n",
              "      --hover-bg-color: #E2EBFA;\n",
              "      --hover-fill-color: #174EA6;\n",
              "      --disabled-fill-color: #AAA;\n",
              "      --disabled-bg-color: #DDD;\n",
              "  }\n",
              "\n",
              "  [theme=dark] .colab-df-quickchart {\n",
              "      --bg-color: #3B4455;\n",
              "      --fill-color: #D2E3FC;\n",
              "      --hover-bg-color: #434B5C;\n",
              "      --hover-fill-color: #FFFFFF;\n",
              "      --disabled-bg-color: #3B4455;\n",
              "      --disabled-fill-color: #666;\n",
              "  }\n",
              "\n",
              "  .colab-df-quickchart {\n",
              "    background-color: var(--bg-color);\n",
              "    border: none;\n",
              "    border-radius: 50%;\n",
              "    cursor: pointer;\n",
              "    display: none;\n",
              "    fill: var(--fill-color);\n",
              "    height: 32px;\n",
              "    padding: 0;\n",
              "    width: 32px;\n",
              "  }\n",
              "\n",
              "  .colab-df-quickchart:hover {\n",
              "    background-color: var(--hover-bg-color);\n",
              "    box-shadow: 0 1px 2px rgba(60, 64, 67, 0.3), 0 1px 3px 1px rgba(60, 64, 67, 0.15);\n",
              "    fill: var(--button-hover-fill-color);\n",
              "  }\n",
              "\n",
              "  .colab-df-quickchart-complete:disabled,\n",
              "  .colab-df-quickchart-complete:disabled:hover {\n",
              "    background-color: var(--disabled-bg-color);\n",
              "    fill: var(--disabled-fill-color);\n",
              "    box-shadow: none;\n",
              "  }\n",
              "\n",
              "  .colab-df-spinner {\n",
              "    border: 2px solid var(--fill-color);\n",
              "    border-color: transparent;\n",
              "    border-bottom-color: var(--fill-color);\n",
              "    animation:\n",
              "      spin 1s steps(1) infinite;\n",
              "  }\n",
              "\n",
              "  @keyframes spin {\n",
              "    0% {\n",
              "      border-color: transparent;\n",
              "      border-bottom-color: var(--fill-color);\n",
              "      border-left-color: var(--fill-color);\n",
              "    }\n",
              "    20% {\n",
              "      border-color: transparent;\n",
              "      border-left-color: var(--fill-color);\n",
              "      border-top-color: var(--fill-color);\n",
              "    }\n",
              "    30% {\n",
              "      border-color: transparent;\n",
              "      border-left-color: var(--fill-color);\n",
              "      border-top-color: var(--fill-color);\n",
              "      border-right-color: var(--fill-color);\n",
              "    }\n",
              "    40% {\n",
              "      border-color: transparent;\n",
              "      border-right-color: var(--fill-color);\n",
              "      border-top-color: var(--fill-color);\n",
              "    }\n",
              "    60% {\n",
              "      border-color: transparent;\n",
              "      border-right-color: var(--fill-color);\n",
              "    }\n",
              "    80% {\n",
              "      border-color: transparent;\n",
              "      border-right-color: var(--fill-color);\n",
              "      border-bottom-color: var(--fill-color);\n",
              "    }\n",
              "    90% {\n",
              "      border-color: transparent;\n",
              "      border-bottom-color: var(--fill-color);\n",
              "    }\n",
              "  }\n",
              "</style>\n",
              "\n",
              "  <script>\n",
              "    async function quickchart(key) {\n",
              "      const quickchartButtonEl =\n",
              "        document.querySelector('#' + key + ' button');\n",
              "      quickchartButtonEl.disabled = true;  // To prevent multiple clicks.\n",
              "      quickchartButtonEl.classList.add('colab-df-spinner');\n",
              "      try {\n",
              "        const charts = await google.colab.kernel.invokeFunction(\n",
              "            'suggestCharts', [key], {});\n",
              "      } catch (error) {\n",
              "        console.error('Error during call to suggestCharts:', error);\n",
              "      }\n",
              "      quickchartButtonEl.classList.remove('colab-df-spinner');\n",
              "      quickchartButtonEl.classList.add('colab-df-quickchart-complete');\n",
              "    }\n",
              "    (() => {\n",
              "      let quickchartButtonEl =\n",
              "        document.querySelector('#df-3e90181e-b4bf-4c81-b559-85c7d24d8653 button');\n",
              "      quickchartButtonEl.style.display =\n",
              "        google.colab.kernel.accessAllowed ? 'block' : 'none';\n",
              "    })();\n",
              "  </script>\n",
              "</div>\n",
              "\n",
              "    </div>\n",
              "  </div>\n"
            ],
            "application/vnd.google.colaboratory.intrinsic+json": {
              "type": "dataframe",
              "variable_name": "data",
              "summary": "{\n  \"name\": \"data\",\n  \"rows\": 1000,\n  \"fields\": [\n    {\n      \"column\": \"Age\",\n      \"properties\": {\n        \"dtype\": \"number\",\n        \"std\": 13,\n        \"min\": 20,\n        \"max\": 65,\n        \"num_unique_values\": 46,\n        \"samples\": [\n          45,\n          47,\n          64\n        ],\n        \"semantic_type\": \"\",\n        \"description\": \"\"\n      }\n    },\n    {\n      \"column\": \"Gender\",\n      \"properties\": {\n        \"dtype\": \"category\",\n        \"num_unique_values\": 2,\n        \"samples\": [\n          \"Female\",\n          \"Male\"\n        ],\n        \"semantic_type\": \"\",\n        \"description\": \"\"\n      }\n    },\n    {\n      \"column\": \"Marital Status\",\n      \"properties\": {\n        \"dtype\": \"category\",\n        \"num_unique_values\": 3,\n        \"samples\": [\n          \"Married\",\n          \"Single\"\n        ],\n        \"semantic_type\": \"\",\n        \"description\": \"\"\n      }\n    },\n    {\n      \"column\": \"Education Level\",\n      \"properties\": {\n        \"dtype\": \"category\",\n        \"num_unique_values\": 4,\n        \"samples\": [\n          \"High School\",\n          \"Bachelor\"\n        ],\n        \"semantic_type\": \"\",\n        \"description\": \"\"\n      }\n    },\n    {\n      \"column\": \"Employment Status\",\n      \"properties\": {\n        \"dtype\": \"category\",\n        \"num_unique_values\": 3,\n        \"samples\": [\n          \"Employed\",\n          \"Unemployed\"\n        ],\n        \"semantic_type\": \"\",\n        \"description\": \"\"\n      }\n    },\n    {\n      \"column\": \"Credit Utilization Ratio\",\n      \"properties\": {\n        \"dtype\": \"number\",\n        \"std\": 0.29105671528331345,\n        \"min\": 0.0,\n        \"max\": 1.0,\n        \"num_unique_values\": 101,\n        \"samples\": [\n          0.81,\n          0.53\n        ],\n        \"semantic_type\": \"\",\n        \"description\": \"\"\n      }\n    },\n    {\n      \"column\": \"Payment History\",\n      \"properties\": {\n        \"dtype\": \"number\",\n        \"std\": 827.9341461459088,\n        \"min\": 0.0,\n        \"max\": 2857.0,\n        \"num_unique_values\": 101,\n        \"samples\": [\n          1085.0,\n          2114.0\n        ],\n        \"semantic_type\": \"\",\n        \"description\": \"\"\n      }\n    },\n    {\n      \"column\": \"Number of Credit Accounts\",\n      \"properties\": {\n        \"dtype\": \"number\",\n        \"std\": 2,\n        \"min\": 1,\n        \"max\": 10,\n        \"num_unique_values\": 10,\n        \"samples\": [\n          5,\n          9\n        ],\n        \"semantic_type\": \"\",\n        \"description\": \"\"\n      }\n    },\n    {\n      \"column\": \"Loan Amount\",\n      \"properties\": {\n        \"dtype\": \"number\",\n        \"std\": 1387046,\n        \"min\": 108000,\n        \"max\": 4996000,\n        \"num_unique_values\": 897,\n        \"samples\": [\n          3327000,\n          259000\n        ],\n        \"semantic_type\": \"\",\n        \"description\": \"\"\n      }\n    },\n    {\n      \"column\": \"Interest Rate\",\n      \"properties\": {\n        \"dtype\": \"number\",\n        \"std\": 5.479057739585679,\n        \"min\": 1.01,\n        \"max\": 19.99,\n        \"num_unique_values\": 774,\n        \"samples\": [\n          16.2,\n          12.72\n        ],\n        \"semantic_type\": \"\",\n        \"description\": \"\"\n      }\n    },\n    {\n      \"column\": \"Loan Term\",\n      \"properties\": {\n        \"dtype\": \"number\",\n        \"std\": 17,\n        \"min\": 12,\n        \"max\": 60,\n        \"num_unique_values\": 5,\n        \"samples\": [\n          60,\n          24\n        ],\n        \"semantic_type\": \"\",\n        \"description\": \"\"\n      }\n    },\n    {\n      \"column\": \"Type of Loan\",\n      \"properties\": {\n        \"dtype\": \"category\",\n        \"num_unique_values\": 3,\n        \"samples\": [\n          \"Personal Loan\",\n          \"Auto Loan\"\n        ],\n        \"semantic_type\": \"\",\n        \"description\": \"\"\n      }\n    }\n  ]\n}"
            }
          },
          "metadata": {},
          "execution_count": 3
        }
      ]
    },
    {
      "cell_type": "code",
      "source": [
        "data.describe()"
      ],
      "metadata": {
        "colab": {
          "base_uri": "https://localhost:8080/",
          "height": 300
        },
        "id": "EPHMNP6Zy5Qp",
        "outputId": "57511242-63e6-4c2e-d420-4e2bd9d66faf"
      },
      "execution_count": 4,
      "outputs": [
        {
          "output_type": "execute_result",
          "data": {
            "text/plain": [
              "               Age  Credit Utilization Ratio  Payment History  \\\n",
              "count  1000.000000               1000.000000      1000.000000   \n",
              "mean     42.702000                  0.509950      1452.814000   \n",
              "std      13.266771                  0.291057       827.934146   \n",
              "min      20.000000                  0.000000         0.000000   \n",
              "25%      31.000000                  0.250000       763.750000   \n",
              "50%      42.000000                  0.530000      1428.000000   \n",
              "75%      54.000000                  0.750000      2142.000000   \n",
              "max      65.000000                  1.000000      2857.000000   \n",
              "\n",
              "       Number of Credit Accounts   Loan Amount  Interest Rate    Loan Term  \n",
              "count                1000.000000  1.000000e+03    1000.000000  1000.000000  \n",
              "mean                    5.580000  2.471401e+06      10.686600    37.128000  \n",
              "std                     2.933634  1.387047e+06       5.479058    17.436274  \n",
              "min                     1.000000  1.080000e+05       1.010000    12.000000  \n",
              "25%                     3.000000  1.298000e+06       6.022500    24.000000  \n",
              "50%                     6.000000  2.437500e+06      10.705000    36.000000  \n",
              "75%                     8.000000  3.653250e+06      15.440000    48.000000  \n",
              "max                    10.000000  4.996000e+06      19.990000    60.000000  "
            ],
            "text/html": [
              "\n",
              "  <div id=\"df-4e57b797-cc1d-4772-8283-2cf69799ebb4\" class=\"colab-df-container\">\n",
              "    <div>\n",
              "<style scoped>\n",
              "    .dataframe tbody tr th:only-of-type {\n",
              "        vertical-align: middle;\n",
              "    }\n",
              "\n",
              "    .dataframe tbody tr th {\n",
              "        vertical-align: top;\n",
              "    }\n",
              "\n",
              "    .dataframe thead th {\n",
              "        text-align: right;\n",
              "    }\n",
              "</style>\n",
              "<table border=\"1\" class=\"dataframe\">\n",
              "  <thead>\n",
              "    <tr style=\"text-align: right;\">\n",
              "      <th></th>\n",
              "      <th>Age</th>\n",
              "      <th>Credit Utilization Ratio</th>\n",
              "      <th>Payment History</th>\n",
              "      <th>Number of Credit Accounts</th>\n",
              "      <th>Loan Amount</th>\n",
              "      <th>Interest Rate</th>\n",
              "      <th>Loan Term</th>\n",
              "    </tr>\n",
              "  </thead>\n",
              "  <tbody>\n",
              "    <tr>\n",
              "      <th>count</th>\n",
              "      <td>1000.000000</td>\n",
              "      <td>1000.000000</td>\n",
              "      <td>1000.000000</td>\n",
              "      <td>1000.000000</td>\n",
              "      <td>1.000000e+03</td>\n",
              "      <td>1000.000000</td>\n",
              "      <td>1000.000000</td>\n",
              "    </tr>\n",
              "    <tr>\n",
              "      <th>mean</th>\n",
              "      <td>42.702000</td>\n",
              "      <td>0.509950</td>\n",
              "      <td>1452.814000</td>\n",
              "      <td>5.580000</td>\n",
              "      <td>2.471401e+06</td>\n",
              "      <td>10.686600</td>\n",
              "      <td>37.128000</td>\n",
              "    </tr>\n",
              "    <tr>\n",
              "      <th>std</th>\n",
              "      <td>13.266771</td>\n",
              "      <td>0.291057</td>\n",
              "      <td>827.934146</td>\n",
              "      <td>2.933634</td>\n",
              "      <td>1.387047e+06</td>\n",
              "      <td>5.479058</td>\n",
              "      <td>17.436274</td>\n",
              "    </tr>\n",
              "    <tr>\n",
              "      <th>min</th>\n",
              "      <td>20.000000</td>\n",
              "      <td>0.000000</td>\n",
              "      <td>0.000000</td>\n",
              "      <td>1.000000</td>\n",
              "      <td>1.080000e+05</td>\n",
              "      <td>1.010000</td>\n",
              "      <td>12.000000</td>\n",
              "    </tr>\n",
              "    <tr>\n",
              "      <th>25%</th>\n",
              "      <td>31.000000</td>\n",
              "      <td>0.250000</td>\n",
              "      <td>763.750000</td>\n",
              "      <td>3.000000</td>\n",
              "      <td>1.298000e+06</td>\n",
              "      <td>6.022500</td>\n",
              "      <td>24.000000</td>\n",
              "    </tr>\n",
              "    <tr>\n",
              "      <th>50%</th>\n",
              "      <td>42.000000</td>\n",
              "      <td>0.530000</td>\n",
              "      <td>1428.000000</td>\n",
              "      <td>6.000000</td>\n",
              "      <td>2.437500e+06</td>\n",
              "      <td>10.705000</td>\n",
              "      <td>36.000000</td>\n",
              "    </tr>\n",
              "    <tr>\n",
              "      <th>75%</th>\n",
              "      <td>54.000000</td>\n",
              "      <td>0.750000</td>\n",
              "      <td>2142.000000</td>\n",
              "      <td>8.000000</td>\n",
              "      <td>3.653250e+06</td>\n",
              "      <td>15.440000</td>\n",
              "      <td>48.000000</td>\n",
              "    </tr>\n",
              "    <tr>\n",
              "      <th>max</th>\n",
              "      <td>65.000000</td>\n",
              "      <td>1.000000</td>\n",
              "      <td>2857.000000</td>\n",
              "      <td>10.000000</td>\n",
              "      <td>4.996000e+06</td>\n",
              "      <td>19.990000</td>\n",
              "      <td>60.000000</td>\n",
              "    </tr>\n",
              "  </tbody>\n",
              "</table>\n",
              "</div>\n",
              "    <div class=\"colab-df-buttons\">\n",
              "\n",
              "  <div class=\"colab-df-container\">\n",
              "    <button class=\"colab-df-convert\" onclick=\"convertToInteractive('df-4e57b797-cc1d-4772-8283-2cf69799ebb4')\"\n",
              "            title=\"Convert this dataframe to an interactive table.\"\n",
              "            style=\"display:none;\">\n",
              "\n",
              "  <svg xmlns=\"http://www.w3.org/2000/svg\" height=\"24px\" viewBox=\"0 -960 960 960\">\n",
              "    <path d=\"M120-120v-720h720v720H120Zm60-500h600v-160H180v160Zm220 220h160v-160H400v160Zm0 220h160v-160H400v160ZM180-400h160v-160H180v160Zm440 0h160v-160H620v160ZM180-180h160v-160H180v160Zm440 0h160v-160H620v160Z\"/>\n",
              "  </svg>\n",
              "    </button>\n",
              "\n",
              "  <style>\n",
              "    .colab-df-container {\n",
              "      display:flex;\n",
              "      gap: 12px;\n",
              "    }\n",
              "\n",
              "    .colab-df-convert {\n",
              "      background-color: #E8F0FE;\n",
              "      border: none;\n",
              "      border-radius: 50%;\n",
              "      cursor: pointer;\n",
              "      display: none;\n",
              "      fill: #1967D2;\n",
              "      height: 32px;\n",
              "      padding: 0 0 0 0;\n",
              "      width: 32px;\n",
              "    }\n",
              "\n",
              "    .colab-df-convert:hover {\n",
              "      background-color: #E2EBFA;\n",
              "      box-shadow: 0px 1px 2px rgba(60, 64, 67, 0.3), 0px 1px 3px 1px rgba(60, 64, 67, 0.15);\n",
              "      fill: #174EA6;\n",
              "    }\n",
              "\n",
              "    .colab-df-buttons div {\n",
              "      margin-bottom: 4px;\n",
              "    }\n",
              "\n",
              "    [theme=dark] .colab-df-convert {\n",
              "      background-color: #3B4455;\n",
              "      fill: #D2E3FC;\n",
              "    }\n",
              "\n",
              "    [theme=dark] .colab-df-convert:hover {\n",
              "      background-color: #434B5C;\n",
              "      box-shadow: 0px 1px 3px 1px rgba(0, 0, 0, 0.15);\n",
              "      filter: drop-shadow(0px 1px 2px rgba(0, 0, 0, 0.3));\n",
              "      fill: #FFFFFF;\n",
              "    }\n",
              "  </style>\n",
              "\n",
              "    <script>\n",
              "      const buttonEl =\n",
              "        document.querySelector('#df-4e57b797-cc1d-4772-8283-2cf69799ebb4 button.colab-df-convert');\n",
              "      buttonEl.style.display =\n",
              "        google.colab.kernel.accessAllowed ? 'block' : 'none';\n",
              "\n",
              "      async function convertToInteractive(key) {\n",
              "        const element = document.querySelector('#df-4e57b797-cc1d-4772-8283-2cf69799ebb4');\n",
              "        const dataTable =\n",
              "          await google.colab.kernel.invokeFunction('convertToInteractive',\n",
              "                                                    [key], {});\n",
              "        if (!dataTable) return;\n",
              "\n",
              "        const docLinkHtml = 'Like what you see? Visit the ' +\n",
              "          '<a target=\"_blank\" href=https://colab.research.google.com/notebooks/data_table.ipynb>data table notebook</a>'\n",
              "          + ' to learn more about interactive tables.';\n",
              "        element.innerHTML = '';\n",
              "        dataTable['output_type'] = 'display_data';\n",
              "        await google.colab.output.renderOutput(dataTable, element);\n",
              "        const docLink = document.createElement('div');\n",
              "        docLink.innerHTML = docLinkHtml;\n",
              "        element.appendChild(docLink);\n",
              "      }\n",
              "    </script>\n",
              "  </div>\n",
              "\n",
              "\n",
              "<div id=\"df-b5d5349c-6d96-49b5-a27f-bc879372e52a\">\n",
              "  <button class=\"colab-df-quickchart\" onclick=\"quickchart('df-b5d5349c-6d96-49b5-a27f-bc879372e52a')\"\n",
              "            title=\"Suggest charts\"\n",
              "            style=\"display:none;\">\n",
              "\n",
              "<svg xmlns=\"http://www.w3.org/2000/svg\" height=\"24px\"viewBox=\"0 0 24 24\"\n",
              "     width=\"24px\">\n",
              "    <g>\n",
              "        <path d=\"M19 3H5c-1.1 0-2 .9-2 2v14c0 1.1.9 2 2 2h14c1.1 0 2-.9 2-2V5c0-1.1-.9-2-2-2zM9 17H7v-7h2v7zm4 0h-2V7h2v10zm4 0h-2v-4h2v4z\"/>\n",
              "    </g>\n",
              "</svg>\n",
              "  </button>\n",
              "\n",
              "<style>\n",
              "  .colab-df-quickchart {\n",
              "      --bg-color: #E8F0FE;\n",
              "      --fill-color: #1967D2;\n",
              "      --hover-bg-color: #E2EBFA;\n",
              "      --hover-fill-color: #174EA6;\n",
              "      --disabled-fill-color: #AAA;\n",
              "      --disabled-bg-color: #DDD;\n",
              "  }\n",
              "\n",
              "  [theme=dark] .colab-df-quickchart {\n",
              "      --bg-color: #3B4455;\n",
              "      --fill-color: #D2E3FC;\n",
              "      --hover-bg-color: #434B5C;\n",
              "      --hover-fill-color: #FFFFFF;\n",
              "      --disabled-bg-color: #3B4455;\n",
              "      --disabled-fill-color: #666;\n",
              "  }\n",
              "\n",
              "  .colab-df-quickchart {\n",
              "    background-color: var(--bg-color);\n",
              "    border: none;\n",
              "    border-radius: 50%;\n",
              "    cursor: pointer;\n",
              "    display: none;\n",
              "    fill: var(--fill-color);\n",
              "    height: 32px;\n",
              "    padding: 0;\n",
              "    width: 32px;\n",
              "  }\n",
              "\n",
              "  .colab-df-quickchart:hover {\n",
              "    background-color: var(--hover-bg-color);\n",
              "    box-shadow: 0 1px 2px rgba(60, 64, 67, 0.3), 0 1px 3px 1px rgba(60, 64, 67, 0.15);\n",
              "    fill: var(--button-hover-fill-color);\n",
              "  }\n",
              "\n",
              "  .colab-df-quickchart-complete:disabled,\n",
              "  .colab-df-quickchart-complete:disabled:hover {\n",
              "    background-color: var(--disabled-bg-color);\n",
              "    fill: var(--disabled-fill-color);\n",
              "    box-shadow: none;\n",
              "  }\n",
              "\n",
              "  .colab-df-spinner {\n",
              "    border: 2px solid var(--fill-color);\n",
              "    border-color: transparent;\n",
              "    border-bottom-color: var(--fill-color);\n",
              "    animation:\n",
              "      spin 1s steps(1) infinite;\n",
              "  }\n",
              "\n",
              "  @keyframes spin {\n",
              "    0% {\n",
              "      border-color: transparent;\n",
              "      border-bottom-color: var(--fill-color);\n",
              "      border-left-color: var(--fill-color);\n",
              "    }\n",
              "    20% {\n",
              "      border-color: transparent;\n",
              "      border-left-color: var(--fill-color);\n",
              "      border-top-color: var(--fill-color);\n",
              "    }\n",
              "    30% {\n",
              "      border-color: transparent;\n",
              "      border-left-color: var(--fill-color);\n",
              "      border-top-color: var(--fill-color);\n",
              "      border-right-color: var(--fill-color);\n",
              "    }\n",
              "    40% {\n",
              "      border-color: transparent;\n",
              "      border-right-color: var(--fill-color);\n",
              "      border-top-color: var(--fill-color);\n",
              "    }\n",
              "    60% {\n",
              "      border-color: transparent;\n",
              "      border-right-color: var(--fill-color);\n",
              "    }\n",
              "    80% {\n",
              "      border-color: transparent;\n",
              "      border-right-color: var(--fill-color);\n",
              "      border-bottom-color: var(--fill-color);\n",
              "    }\n",
              "    90% {\n",
              "      border-color: transparent;\n",
              "      border-bottom-color: var(--fill-color);\n",
              "    }\n",
              "  }\n",
              "</style>\n",
              "\n",
              "  <script>\n",
              "    async function quickchart(key) {\n",
              "      const quickchartButtonEl =\n",
              "        document.querySelector('#' + key + ' button');\n",
              "      quickchartButtonEl.disabled = true;  // To prevent multiple clicks.\n",
              "      quickchartButtonEl.classList.add('colab-df-spinner');\n",
              "      try {\n",
              "        const charts = await google.colab.kernel.invokeFunction(\n",
              "            'suggestCharts', [key], {});\n",
              "      } catch (error) {\n",
              "        console.error('Error during call to suggestCharts:', error);\n",
              "      }\n",
              "      quickchartButtonEl.classList.remove('colab-df-spinner');\n",
              "      quickchartButtonEl.classList.add('colab-df-quickchart-complete');\n",
              "    }\n",
              "    (() => {\n",
              "      let quickchartButtonEl =\n",
              "        document.querySelector('#df-b5d5349c-6d96-49b5-a27f-bc879372e52a button');\n",
              "      quickchartButtonEl.style.display =\n",
              "        google.colab.kernel.accessAllowed ? 'block' : 'none';\n",
              "    })();\n",
              "  </script>\n",
              "</div>\n",
              "\n",
              "    </div>\n",
              "  </div>\n"
            ],
            "application/vnd.google.colaboratory.intrinsic+json": {
              "type": "dataframe",
              "summary": "{\n  \"name\": \"data\",\n  \"rows\": 8,\n  \"fields\": [\n    {\n      \"column\": \"Age\",\n      \"properties\": {\n        \"dtype\": \"number\",\n        \"std\": 340.44033829996187,\n        \"min\": 13.266770639579292,\n        \"max\": 1000.0,\n        \"num_unique_values\": 8,\n        \"samples\": [\n          42.702,\n          42.0,\n          1000.0\n        ],\n        \"semantic_type\": \"\",\n        \"description\": \"\"\n      }\n    },\n    {\n      \"column\": \"Credit Utilization Ratio\",\n      \"properties\": {\n        \"dtype\": \"number\",\n        \"std\": 353.3852838785525,\n        \"min\": 0.0,\n        \"max\": 1000.0,\n        \"num_unique_values\": 8,\n        \"samples\": [\n          0.5099499999999999,\n          0.53,\n          1000.0\n        ],\n        \"semantic_type\": \"\",\n        \"description\": \"\"\n      }\n    },\n    {\n      \"column\": \"Payment History\",\n      \"properties\": {\n        \"dtype\": \"number\",\n        \"std\": 883.396073065935,\n        \"min\": 0.0,\n        \"max\": 2857.0,\n        \"num_unique_values\": 8,\n        \"samples\": [\n          1452.814,\n          1428.0,\n          1000.0\n        ],\n        \"semantic_type\": \"\",\n        \"description\": \"\"\n      }\n    },\n    {\n      \"column\": \"Number of Credit Accounts\",\n      \"properties\": {\n        \"dtype\": \"number\",\n        \"std\": 351.72121235060166,\n        \"min\": 1.0,\n        \"max\": 1000.0,\n        \"num_unique_values\": 8,\n        \"samples\": [\n          5.58,\n          6.0,\n          1000.0\n        ],\n        \"semantic_type\": \"\",\n        \"description\": \"\"\n      }\n    },\n    {\n      \"column\": \"Loan Amount\",\n      \"properties\": {\n        \"dtype\": \"number\",\n        \"std\": 1713457.3274034848,\n        \"min\": 1000.0,\n        \"max\": 4996000.0,\n        \"num_unique_values\": 8,\n        \"samples\": [\n          2471401.0,\n          2437500.0,\n          1000.0\n        ],\n        \"semantic_type\": \"\",\n        \"description\": \"\"\n      }\n    },\n    {\n      \"column\": \"Interest Rate\",\n      \"properties\": {\n        \"dtype\": \"number\",\n        \"std\": 350.1020115713948,\n        \"min\": 1.01,\n        \"max\": 1000.0,\n        \"num_unique_values\": 8,\n        \"samples\": [\n          10.6866,\n          10.705,\n          1000.0\n        ],\n        \"semantic_type\": \"\",\n        \"description\": \"\"\n      }\n    },\n    {\n      \"column\": \"Loan Term\",\n      \"properties\": {\n        \"dtype\": \"number\",\n        \"std\": 342.07014606334116,\n        \"min\": 12.0,\n        \"max\": 1000.0,\n        \"num_unique_values\": 8,\n        \"samples\": [\n          37.128,\n          36.0,\n          1000.0\n        ],\n        \"semantic_type\": \"\",\n        \"description\": \"\"\n      }\n    }\n  ]\n}"
            }
          },
          "metadata": {},
          "execution_count": 4
        }
      ]
    },
    {
      "cell_type": "code",
      "source": [
        "data.info()"
      ],
      "metadata": {
        "colab": {
          "base_uri": "https://localhost:8080/"
        },
        "id": "wUdXvph1y7S_",
        "outputId": "526bbd45-2da5-45cd-db81-e24ea03a5535"
      },
      "execution_count": 5,
      "outputs": [
        {
          "output_type": "stream",
          "name": "stdout",
          "text": [
            "<class 'pandas.core.frame.DataFrame'>\n",
            "RangeIndex: 1000 entries, 0 to 999\n",
            "Data columns (total 12 columns):\n",
            " #   Column                     Non-Null Count  Dtype  \n",
            "---  ------                     --------------  -----  \n",
            " 0   Age                        1000 non-null   int64  \n",
            " 1   Gender                     1000 non-null   object \n",
            " 2   Marital Status             1000 non-null   object \n",
            " 3   Education Level            1000 non-null   object \n",
            " 4   Employment Status          1000 non-null   object \n",
            " 5   Credit Utilization Ratio   1000 non-null   float64\n",
            " 6   Payment History            1000 non-null   float64\n",
            " 7   Number of Credit Accounts  1000 non-null   int64  \n",
            " 8   Loan Amount                1000 non-null   int64  \n",
            " 9   Interest Rate              1000 non-null   float64\n",
            " 10  Loan Term                  1000 non-null   int64  \n",
            " 11  Type of Loan               1000 non-null   object \n",
            "dtypes: float64(3), int64(4), object(5)\n",
            "memory usage: 93.9+ KB\n"
          ]
        }
      ]
    },
    {
      "cell_type": "code",
      "source": [
        "data.isnull().sum()"
      ],
      "metadata": {
        "colab": {
          "base_uri": "https://localhost:8080/",
          "height": 460
        },
        "id": "1T38IWAVy8sQ",
        "outputId": "ab720778-5c2b-4d6d-80a1-42bc90505c9a"
      },
      "execution_count": 6,
      "outputs": [
        {
          "output_type": "execute_result",
          "data": {
            "text/plain": [
              "Age                          0\n",
              "Gender                       0\n",
              "Marital Status               0\n",
              "Education Level              0\n",
              "Employment Status            0\n",
              "Credit Utilization Ratio     0\n",
              "Payment History              0\n",
              "Number of Credit Accounts    0\n",
              "Loan Amount                  0\n",
              "Interest Rate                0\n",
              "Loan Term                    0\n",
              "Type of Loan                 0\n",
              "dtype: int64"
            ],
            "text/html": [
              "<div>\n",
              "<style scoped>\n",
              "    .dataframe tbody tr th:only-of-type {\n",
              "        vertical-align: middle;\n",
              "    }\n",
              "\n",
              "    .dataframe tbody tr th {\n",
              "        vertical-align: top;\n",
              "    }\n",
              "\n",
              "    .dataframe thead th {\n",
              "        text-align: right;\n",
              "    }\n",
              "</style>\n",
              "<table border=\"1\" class=\"dataframe\">\n",
              "  <thead>\n",
              "    <tr style=\"text-align: right;\">\n",
              "      <th></th>\n",
              "      <th>0</th>\n",
              "    </tr>\n",
              "  </thead>\n",
              "  <tbody>\n",
              "    <tr>\n",
              "      <th>Age</th>\n",
              "      <td>0</td>\n",
              "    </tr>\n",
              "    <tr>\n",
              "      <th>Gender</th>\n",
              "      <td>0</td>\n",
              "    </tr>\n",
              "    <tr>\n",
              "      <th>Marital Status</th>\n",
              "      <td>0</td>\n",
              "    </tr>\n",
              "    <tr>\n",
              "      <th>Education Level</th>\n",
              "      <td>0</td>\n",
              "    </tr>\n",
              "    <tr>\n",
              "      <th>Employment Status</th>\n",
              "      <td>0</td>\n",
              "    </tr>\n",
              "    <tr>\n",
              "      <th>Credit Utilization Ratio</th>\n",
              "      <td>0</td>\n",
              "    </tr>\n",
              "    <tr>\n",
              "      <th>Payment History</th>\n",
              "      <td>0</td>\n",
              "    </tr>\n",
              "    <tr>\n",
              "      <th>Number of Credit Accounts</th>\n",
              "      <td>0</td>\n",
              "    </tr>\n",
              "    <tr>\n",
              "      <th>Loan Amount</th>\n",
              "      <td>0</td>\n",
              "    </tr>\n",
              "    <tr>\n",
              "      <th>Interest Rate</th>\n",
              "      <td>0</td>\n",
              "    </tr>\n",
              "    <tr>\n",
              "      <th>Loan Term</th>\n",
              "      <td>0</td>\n",
              "    </tr>\n",
              "    <tr>\n",
              "      <th>Type of Loan</th>\n",
              "      <td>0</td>\n",
              "    </tr>\n",
              "  </tbody>\n",
              "</table>\n",
              "</div><br><label><b>dtype:</b> int64</label>"
            ]
          },
          "metadata": {},
          "execution_count": 6
        }
      ]
    },
    {
      "cell_type": "code",
      "source": [
        "data['Education Level'].unique()"
      ],
      "metadata": {
        "colab": {
          "base_uri": "https://localhost:8080/"
        },
        "id": "15vlrgs4zBuu",
        "outputId": "52f89994-0e96-40ce-e5d9-c0d05f38821e"
      },
      "execution_count": 7,
      "outputs": [
        {
          "output_type": "execute_result",
          "data": {
            "text/plain": [
              "array(['Master', 'High School', 'PhD', 'Bachelor'], dtype=object)"
            ]
          },
          "metadata": {},
          "execution_count": 7
        }
      ]
    },
    {
      "cell_type": "code",
      "source": [
        "data['Employment Status'].unique()"
      ],
      "metadata": {
        "colab": {
          "base_uri": "https://localhost:8080/"
        },
        "id": "eUIncWyZzMLr",
        "outputId": "1e823a2f-9b69-4be0-a5e7-f8d4b134a911"
      },
      "execution_count": 8,
      "outputs": [
        {
          "output_type": "execute_result",
          "data": {
            "text/plain": [
              "array(['Employed', 'Unemployed', 'Self-Employed'], dtype=object)"
            ]
          },
          "metadata": {},
          "execution_count": 8
        }
      ]
    },
    {
      "cell_type": "code",
      "source": [
        "## lets see credit utility ratio"
      ],
      "metadata": {
        "id": "suaFhzvezw0e"
      },
      "execution_count": 9,
      "outputs": []
    },
    {
      "cell_type": "code",
      "source": [
        "credit_utility_figure=px.box(data,y='Credit Utilization Ratio',title=\"CREDIT UTILITY DISTRIBUTION\")\n",
        "credit_utility_figure"
      ],
      "metadata": {
        "colab": {
          "base_uri": "https://localhost:8080/",
          "height": 542
        },
        "id": "xddfblCi0Ije",
        "outputId": "9a504004-4ce5-44a1-84c7-a5091b2777b3"
      },
      "execution_count": 10,
      "outputs": [
        {
          "output_type": "display_data",
          "data": {
            "text/html": [
              "<html>\n",
              "<head><meta charset=\"utf-8\" /></head>\n",
              "<body>\n",
              "    <div>            <script src=\"https://cdnjs.cloudflare.com/ajax/libs/mathjax/2.7.5/MathJax.js?config=TeX-AMS-MML_SVG\"></script><script type=\"text/javascript\">if (window.MathJax && window.MathJax.Hub && window.MathJax.Hub.Config) {window.MathJax.Hub.Config({SVG: {font: \"STIX-Web\"}});}</script>                <script type=\"text/javascript\">window.PlotlyConfig = {MathJaxConfig: 'local'};</script>\n",
              "        <script charset=\"utf-8\" src=\"https://cdn.plot.ly/plotly-2.35.2.min.js\"></script>                <div id=\"e8d63dc7-d92f-4ed9-8292-36b29a631207\" class=\"plotly-graph-div\" style=\"height:525px; width:100%;\"></div>            <script type=\"text/javascript\">                                    window.PLOTLYENV=window.PLOTLYENV || {};                                    if (document.getElementById(\"e8d63dc7-d92f-4ed9-8292-36b29a631207\")) {                    Plotly.newPlot(                        \"e8d63dc7-d92f-4ed9-8292-36b29a631207\",                        [{\"alignmentgroup\":\"True\",\"hovertemplate\":\"Credit Utilization Ratio=%{y}\\u003cextra\\u003e\\u003c\\u002fextra\\u003e\",\"legendgroup\":\"\",\"marker\":{\"color\":\"#636efa\"},\"name\":\"\",\"notched\":false,\"offsetgroup\":\"\",\"orientation\":\"v\",\"showlegend\":false,\"x0\":\" \",\"xaxis\":\"x\",\"y\":[0.22,0.2,0.22,0.12,0.99,0.94,0.32,0.66,0.4,0.06,0.29,0.51,0.93,0.66,1.0,0.55,0.67,0.1,0.34,0.44,0.21,0.19,0.92,0.12,0.72,0.54,0.98,0.74,0.91,0.71,0.31,0.88,0.87,0.33,0.58,0.04,0.95,0.4,0.29,0.08,0.24,0.15,0.46,0.74,0.71,0.21,0.38,0.44,0.59,0.45,0.22,0.11,0.58,0.6,0.11,0.59,0.85,0.95,0.29,0.7,0.48,0.71,0.28,0.58,0.6,0.96,0.45,0.79,0.17,0.5,0.96,0.18,0.33,0.12,0.36,0.03,0.46,0.46,0.27,0.33,0.32,0.53,0.08,0.75,0.43,0.91,0.44,0.11,0.75,0.65,0.79,0.14,0.75,0.22,0.23,0.62,0.4,0.99,0.0,0.59,0.59,1.0,0.62,0.65,0.43,0.74,0.94,0.85,0.18,0.63,0.6,0.61,0.67,0.33,0.04,0.02,0.08,0.35,0.95,0.44,0.04,0.91,0.65,0.41,0.85,0.56,0.36,0.51,0.77,0.97,0.82,0.27,0.37,0.29,0.78,0.54,0.66,0.64,0.04,0.78,0.04,0.74,0.43,0.69,0.51,0.37,0.37,0.77,0.17,0.85,0.57,0.82,0.43,0.25,0.66,0.21,0.45,0.99,0.45,0.76,0.22,0.43,0.39,0.79,0.71,0.74,0.33,0.48,0.31,0.33,0.48,0.56,0.96,0.11,0.72,0.32,1.0,0.99,0.73,0.52,0.45,0.67,0.61,0.68,0.54,0.45,0.75,0.18,0.86,0.72,0.81,0.74,0.6,0.56,0.42,0.91,0.85,0.72,1.0,0.26,0.86,0.23,0.79,0.41,0.49,0.11,0.96,0.38,0.92,0.96,0.76,0.77,0.19,0.71,0.13,0.6,0.38,0.78,0.01,0.95,0.38,0.46,0.25,0.7,0.98,0.37,0.14,0.07,0.56,0.59,0.46,0.35,0.31,0.64,0.95,0.71,0.78,0.44,0.87,0.81,0.99,0.15,0.63,0.09,0.34,0.12,0.65,0.66,0.34,0.14,0.21,0.96,0.88,0.24,0.55,0.29,0.08,0.95,0.01,0.78,0.46,0.74,0.32,0.98,0.29,0.02,0.49,0.1,0.93,0.45,0.81,0.05,0.8,0.59,0.17,0.28,0.14,0.91,0.53,0.58,0.7,0.06,0.06,0.3,0.31,0.22,0.67,0.0,0.65,0.17,0.94,0.28,0.29,0.31,0.37,0.67,0.3,0.95,0.26,0.41,0.26,0.4,0.86,0.91,0.78,0.2,0.96,0.05,0.91,0.46,0.65,0.71,0.03,0.53,0.74,0.79,0.12,0.32,0.76,0.38,0.73,0.95,0.23,0.88,0.44,0.1,0.5,0.5,0.08,0.85,0.96,0.85,0.61,0.26,0.66,0.85,0.64,0.75,0.67,0.45,0.14,0.34,0.74,0.6,0.8,0.71,0.56,0.05,0.75,0.66,0.91,0.96,0.33,0.78,0.35,0.24,0.91,0.17,0.21,0.05,0.32,0.93,0.22,0.04,0.18,0.1,0.07,0.96,0.68,0.86,0.21,0.73,0.68,0.04,0.47,0.54,0.82,0.64,0.11,0.59,0.97,0.6,0.13,0.6,0.42,0.48,0.52,0.85,0.55,0.78,0.01,0.04,0.85,0.04,0.02,0.93,0.96,0.86,0.54,0.31,0.21,0.96,0.13,0.52,0.55,0.75,0.56,0.52,0.22,0.12,0.45,0.08,0.75,0.17,0.26,0.04,0.6,0.37,0.92,0.41,0.76,0.11,0.02,0.22,0.78,0.74,0.16,0.22,0.58,0.06,0.69,0.57,0.3,0.24,0.41,0.19,0.61,0.79,0.39,0.58,1.0,0.24,0.6,0.04,0.92,0.73,0.78,0.05,0.13,0.13,0.78,0.66,0.69,0.45,0.73,0.62,0.39,0.93,0.35,0.95,0.15,0.71,0.32,0.13,0.08,0.47,0.93,0.31,0.54,0.17,0.78,0.09,0.55,0.73,0.86,0.6,0.15,0.66,0.32,0.53,0.61,0.81,1.0,0.3,0.83,0.78,0.07,0.71,0.11,0.73,0.39,0.52,0.53,0.32,0.47,0.33,0.68,0.92,0.77,0.59,0.57,0.56,0.66,0.62,0.58,0.86,0.55,0.01,0.89,0.19,0.98,0.89,0.54,0.17,0.05,0.28,0.78,0.24,0.4,0.38,0.8,0.69,0.45,0.96,0.66,0.33,0.14,0.57,0.15,0.38,0.53,0.7,1.0,0.06,0.04,0.05,0.8,0.06,0.1,0.65,0.61,0.24,0.11,0.33,0.9,0.1,0.22,0.13,0.6,0.28,0.98,0.08,0.3,0.46,0.08,0.37,0.94,0.35,0.95,0.7,0.44,0.65,0.23,0.97,0.21,0.92,0.9,0.55,0.53,0.49,0.01,0.81,0.93,0.19,0.15,0.49,0.51,0.27,0.6,0.01,0.8,0.92,0.74,0.42,0.12,0.67,0.57,0.92,0.21,0.29,0.55,0.11,0.36,0.94,0.5,0.68,0.5,0.46,0.39,0.06,0.84,0.06,0.02,0.02,0.81,0.27,0.07,0.41,0.66,0.46,0.65,0.56,0.85,0.66,0.6,0.18,0.55,0.97,0.12,0.92,0.82,0.64,0.52,0.2,0.97,0.95,0.95,0.18,0.01,0.06,0.62,0.88,0.87,0.74,0.47,0.85,1.0,0.68,0.63,0.86,0.24,0.3,0.27,0.34,0.08,0.08,0.08,0.3,0.11,0.97,0.14,0.84,0.74,0.33,0.49,0.89,0.19,0.71,0.17,0.36,0.56,0.8,0.91,0.85,0.72,0.95,0.98,0.4,0.64,0.73,0.16,0.26,0.81,0.74,0.06,0.42,0.21,0.29,0.42,0.48,0.67,0.89,0.56,0.66,0.59,0.98,0.61,0.38,0.32,0.76,0.99,0.97,0.16,0.5,0.96,0.56,0.97,0.74,0.04,0.74,0.73,0.67,0.76,0.08,0.63,0.24,0.12,0.1,0.38,0.6,0.62,0.58,0.24,0.69,0.45,0.77,0.29,0.17,0.94,0.14,0.29,0.79,0.37,0.45,0.75,0.43,0.9,0.55,0.77,0.72,0.43,0.81,0.79,0.53,0.83,0.06,0.74,0.2,0.88,0.61,0.57,0.73,0.45,0.4,0.08,0.53,0.71,0.05,0.99,0.32,0.17,0.07,0.32,0.51,0.43,0.04,0.81,0.7,0.05,0.16,0.86,0.76,0.45,0.86,0.99,0.35,0.63,0.12,0.3,0.21,0.42,0.57,0.17,0.76,0.6,0.82,0.84,0.41,0.74,0.14,0.48,0.77,0.93,0.12,0.58,0.66,0.46,0.83,0.86,0.76,0.75,0.22,0.1,0.03,0.63,0.69,0.91,0.97,0.16,0.3,0.1,0.13,0.68,0.66,0.27,0.27,0.53,0.81,0.13,0.44,0.41,0.93,0.19,0.67,0.17,0.74,0.62,0.49,0.47,0.14,0.74,0.75,0.5,0.49,0.82,0.4,0.63,0.36,0.29,0.01,0.58,0.07,0.55,0.52,0.81,0.18,0.71,0.87,0.88,0.97,0.63,0.73,0.49,0.43,0.11,0.74,0.06,0.0,0.88,0.36,0.82,0.15,0.77,0.42,0.09,0.36,0.96,0.84,0.74,0.06,0.5,0.62,0.64,0.78,0.2,0.09,0.7,0.59,0.16,0.89,0.77,0.36,0.97,0.84,0.79,0.87,0.77,0.04,0.98,0.27,0.34,0.91,0.15,0.45,0.35,1.0,0.37,0.62,0.44,0.95,0.84,0.17,0.94,0.12,0.63,0.63,0.66,0.26,0.49,0.9,0.19,0.22,0.51,0.49,0.9,0.03,0.12,0.21,0.81,0.6,0.84,0.72,0.98,0.86,0.88,0.58,0.48,0.56,0.49,0.22,0.69,0.03,0.5,0.29,0.22,0.39,0.19,0.9,0.35,0.53,0.36,0.98,0.09,0.39,0.97,0.56,0.49,0.71,0.64,0.14,0.18,0.47,0.62,0.08,0.58,0.63,0.1,0.98,0.14,0.49,0.12,0.01,0.66,0.96,0.96,0.93,0.25,0.13,0.16,0.55,0.62,0.12,0.07,0.47,0.91,0.74,0.35,0.48,0.19,0.08,0.4,0.3,0.71,0.82,0.38,0.21,0.81,0.93,0.91,0.27,0.44,0.44,0.11,0.02,0.2,0.98,0.91,0.03,0.8,0.8,0.56,0.67,0.49,0.1,0.4,0.74,0.77,0.18,0.32,0.17],\"y0\":\" \",\"yaxis\":\"y\",\"type\":\"box\"}],                        {\"template\":{\"data\":{\"histogram2dcontour\":[{\"type\":\"histogram2dcontour\",\"colorbar\":{\"outlinewidth\":0,\"ticks\":\"\"},\"colorscale\":[[0.0,\"#0d0887\"],[0.1111111111111111,\"#46039f\"],[0.2222222222222222,\"#7201a8\"],[0.3333333333333333,\"#9c179e\"],[0.4444444444444444,\"#bd3786\"],[0.5555555555555556,\"#d8576b\"],[0.6666666666666666,\"#ed7953\"],[0.7777777777777778,\"#fb9f3a\"],[0.8888888888888888,\"#fdca26\"],[1.0,\"#f0f921\"]]}],\"choropleth\":[{\"type\":\"choropleth\",\"colorbar\":{\"outlinewidth\":0,\"ticks\":\"\"}}],\"histogram2d\":[{\"type\":\"histogram2d\",\"colorbar\":{\"outlinewidth\":0,\"ticks\":\"\"},\"colorscale\":[[0.0,\"#0d0887\"],[0.1111111111111111,\"#46039f\"],[0.2222222222222222,\"#7201a8\"],[0.3333333333333333,\"#9c179e\"],[0.4444444444444444,\"#bd3786\"],[0.5555555555555556,\"#d8576b\"],[0.6666666666666666,\"#ed7953\"],[0.7777777777777778,\"#fb9f3a\"],[0.8888888888888888,\"#fdca26\"],[1.0,\"#f0f921\"]]}],\"heatmap\":[{\"type\":\"heatmap\",\"colorbar\":{\"outlinewidth\":0,\"ticks\":\"\"},\"colorscale\":[[0.0,\"#0d0887\"],[0.1111111111111111,\"#46039f\"],[0.2222222222222222,\"#7201a8\"],[0.3333333333333333,\"#9c179e\"],[0.4444444444444444,\"#bd3786\"],[0.5555555555555556,\"#d8576b\"],[0.6666666666666666,\"#ed7953\"],[0.7777777777777778,\"#fb9f3a\"],[0.8888888888888888,\"#fdca26\"],[1.0,\"#f0f921\"]]}],\"heatmapgl\":[{\"type\":\"heatmapgl\",\"colorbar\":{\"outlinewidth\":0,\"ticks\":\"\"},\"colorscale\":[[0.0,\"#0d0887\"],[0.1111111111111111,\"#46039f\"],[0.2222222222222222,\"#7201a8\"],[0.3333333333333333,\"#9c179e\"],[0.4444444444444444,\"#bd3786\"],[0.5555555555555556,\"#d8576b\"],[0.6666666666666666,\"#ed7953\"],[0.7777777777777778,\"#fb9f3a\"],[0.8888888888888888,\"#fdca26\"],[1.0,\"#f0f921\"]]}],\"contourcarpet\":[{\"type\":\"contourcarpet\",\"colorbar\":{\"outlinewidth\":0,\"ticks\":\"\"}}],\"contour\":[{\"type\":\"contour\",\"colorbar\":{\"outlinewidth\":0,\"ticks\":\"\"},\"colorscale\":[[0.0,\"#0d0887\"],[0.1111111111111111,\"#46039f\"],[0.2222222222222222,\"#7201a8\"],[0.3333333333333333,\"#9c179e\"],[0.4444444444444444,\"#bd3786\"],[0.5555555555555556,\"#d8576b\"],[0.6666666666666666,\"#ed7953\"],[0.7777777777777778,\"#fb9f3a\"],[0.8888888888888888,\"#fdca26\"],[1.0,\"#f0f921\"]]}],\"surface\":[{\"type\":\"surface\",\"colorbar\":{\"outlinewidth\":0,\"ticks\":\"\"},\"colorscale\":[[0.0,\"#0d0887\"],[0.1111111111111111,\"#46039f\"],[0.2222222222222222,\"#7201a8\"],[0.3333333333333333,\"#9c179e\"],[0.4444444444444444,\"#bd3786\"],[0.5555555555555556,\"#d8576b\"],[0.6666666666666666,\"#ed7953\"],[0.7777777777777778,\"#fb9f3a\"],[0.8888888888888888,\"#fdca26\"],[1.0,\"#f0f921\"]]}],\"mesh3d\":[{\"type\":\"mesh3d\",\"colorbar\":{\"outlinewidth\":0,\"ticks\":\"\"}}],\"scatter\":[{\"fillpattern\":{\"fillmode\":\"overlay\",\"size\":10,\"solidity\":0.2},\"type\":\"scatter\"}],\"parcoords\":[{\"type\":\"parcoords\",\"line\":{\"colorbar\":{\"outlinewidth\":0,\"ticks\":\"\"}}}],\"scatterpolargl\":[{\"type\":\"scatterpolargl\",\"marker\":{\"colorbar\":{\"outlinewidth\":0,\"ticks\":\"\"}}}],\"bar\":[{\"error_x\":{\"color\":\"#2a3f5f\"},\"error_y\":{\"color\":\"#2a3f5f\"},\"marker\":{\"line\":{\"color\":\"#E5ECF6\",\"width\":0.5},\"pattern\":{\"fillmode\":\"overlay\",\"size\":10,\"solidity\":0.2}},\"type\":\"bar\"}],\"scattergeo\":[{\"type\":\"scattergeo\",\"marker\":{\"colorbar\":{\"outlinewidth\":0,\"ticks\":\"\"}}}],\"scatterpolar\":[{\"type\":\"scatterpolar\",\"marker\":{\"colorbar\":{\"outlinewidth\":0,\"ticks\":\"\"}}}],\"histogram\":[{\"marker\":{\"pattern\":{\"fillmode\":\"overlay\",\"size\":10,\"solidity\":0.2}},\"type\":\"histogram\"}],\"scattergl\":[{\"type\":\"scattergl\",\"marker\":{\"colorbar\":{\"outlinewidth\":0,\"ticks\":\"\"}}}],\"scatter3d\":[{\"type\":\"scatter3d\",\"line\":{\"colorbar\":{\"outlinewidth\":0,\"ticks\":\"\"}},\"marker\":{\"colorbar\":{\"outlinewidth\":0,\"ticks\":\"\"}}}],\"scattermapbox\":[{\"type\":\"scattermapbox\",\"marker\":{\"colorbar\":{\"outlinewidth\":0,\"ticks\":\"\"}}}],\"scatterternary\":[{\"type\":\"scatterternary\",\"marker\":{\"colorbar\":{\"outlinewidth\":0,\"ticks\":\"\"}}}],\"scattercarpet\":[{\"type\":\"scattercarpet\",\"marker\":{\"colorbar\":{\"outlinewidth\":0,\"ticks\":\"\"}}}],\"carpet\":[{\"aaxis\":{\"endlinecolor\":\"#2a3f5f\",\"gridcolor\":\"white\",\"linecolor\":\"white\",\"minorgridcolor\":\"white\",\"startlinecolor\":\"#2a3f5f\"},\"baxis\":{\"endlinecolor\":\"#2a3f5f\",\"gridcolor\":\"white\",\"linecolor\":\"white\",\"minorgridcolor\":\"white\",\"startlinecolor\":\"#2a3f5f\"},\"type\":\"carpet\"}],\"table\":[{\"cells\":{\"fill\":{\"color\":\"#EBF0F8\"},\"line\":{\"color\":\"white\"}},\"header\":{\"fill\":{\"color\":\"#C8D4E3\"},\"line\":{\"color\":\"white\"}},\"type\":\"table\"}],\"barpolar\":[{\"marker\":{\"line\":{\"color\":\"#E5ECF6\",\"width\":0.5},\"pattern\":{\"fillmode\":\"overlay\",\"size\":10,\"solidity\":0.2}},\"type\":\"barpolar\"}],\"pie\":[{\"automargin\":true,\"type\":\"pie\"}]},\"layout\":{\"autotypenumbers\":\"strict\",\"colorway\":[\"#636efa\",\"#EF553B\",\"#00cc96\",\"#ab63fa\",\"#FFA15A\",\"#19d3f3\",\"#FF6692\",\"#B6E880\",\"#FF97FF\",\"#FECB52\"],\"font\":{\"color\":\"#2a3f5f\"},\"hovermode\":\"closest\",\"hoverlabel\":{\"align\":\"left\"},\"paper_bgcolor\":\"white\",\"plot_bgcolor\":\"#E5ECF6\",\"polar\":{\"bgcolor\":\"#E5ECF6\",\"angularaxis\":{\"gridcolor\":\"white\",\"linecolor\":\"white\",\"ticks\":\"\"},\"radialaxis\":{\"gridcolor\":\"white\",\"linecolor\":\"white\",\"ticks\":\"\"}},\"ternary\":{\"bgcolor\":\"#E5ECF6\",\"aaxis\":{\"gridcolor\":\"white\",\"linecolor\":\"white\",\"ticks\":\"\"},\"baxis\":{\"gridcolor\":\"white\",\"linecolor\":\"white\",\"ticks\":\"\"},\"caxis\":{\"gridcolor\":\"white\",\"linecolor\":\"white\",\"ticks\":\"\"}},\"coloraxis\":{\"colorbar\":{\"outlinewidth\":0,\"ticks\":\"\"}},\"colorscale\":{\"sequential\":[[0.0,\"#0d0887\"],[0.1111111111111111,\"#46039f\"],[0.2222222222222222,\"#7201a8\"],[0.3333333333333333,\"#9c179e\"],[0.4444444444444444,\"#bd3786\"],[0.5555555555555556,\"#d8576b\"],[0.6666666666666666,\"#ed7953\"],[0.7777777777777778,\"#fb9f3a\"],[0.8888888888888888,\"#fdca26\"],[1.0,\"#f0f921\"]],\"sequentialminus\":[[0.0,\"#0d0887\"],[0.1111111111111111,\"#46039f\"],[0.2222222222222222,\"#7201a8\"],[0.3333333333333333,\"#9c179e\"],[0.4444444444444444,\"#bd3786\"],[0.5555555555555556,\"#d8576b\"],[0.6666666666666666,\"#ed7953\"],[0.7777777777777778,\"#fb9f3a\"],[0.8888888888888888,\"#fdca26\"],[1.0,\"#f0f921\"]],\"diverging\":[[0,\"#8e0152\"],[0.1,\"#c51b7d\"],[0.2,\"#de77ae\"],[0.3,\"#f1b6da\"],[0.4,\"#fde0ef\"],[0.5,\"#f7f7f7\"],[0.6,\"#e6f5d0\"],[0.7,\"#b8e186\"],[0.8,\"#7fbc41\"],[0.9,\"#4d9221\"],[1,\"#276419\"]]},\"xaxis\":{\"gridcolor\":\"white\",\"linecolor\":\"white\",\"ticks\":\"\",\"title\":{\"standoff\":15},\"zerolinecolor\":\"white\",\"automargin\":true,\"zerolinewidth\":2},\"yaxis\":{\"gridcolor\":\"white\",\"linecolor\":\"white\",\"ticks\":\"\",\"title\":{\"standoff\":15},\"zerolinecolor\":\"white\",\"automargin\":true,\"zerolinewidth\":2},\"scene\":{\"xaxis\":{\"backgroundcolor\":\"#E5ECF6\",\"gridcolor\":\"white\",\"linecolor\":\"white\",\"showbackground\":true,\"ticks\":\"\",\"zerolinecolor\":\"white\",\"gridwidth\":2},\"yaxis\":{\"backgroundcolor\":\"#E5ECF6\",\"gridcolor\":\"white\",\"linecolor\":\"white\",\"showbackground\":true,\"ticks\":\"\",\"zerolinecolor\":\"white\",\"gridwidth\":2},\"zaxis\":{\"backgroundcolor\":\"#E5ECF6\",\"gridcolor\":\"white\",\"linecolor\":\"white\",\"showbackground\":true,\"ticks\":\"\",\"zerolinecolor\":\"white\",\"gridwidth\":2}},\"shapedefaults\":{\"line\":{\"color\":\"#2a3f5f\"}},\"annotationdefaults\":{\"arrowcolor\":\"#2a3f5f\",\"arrowhead\":0,\"arrowwidth\":1},\"geo\":{\"bgcolor\":\"white\",\"landcolor\":\"#E5ECF6\",\"subunitcolor\":\"white\",\"showland\":true,\"showlakes\":true,\"lakecolor\":\"white\"},\"title\":{\"x\":0.05},\"mapbox\":{\"style\":\"light\"}}},\"xaxis\":{\"anchor\":\"y\",\"domain\":[0.0,1.0]},\"yaxis\":{\"anchor\":\"x\",\"domain\":[0.0,1.0],\"title\":{\"text\":\"Credit Utilization Ratio\"}},\"legend\":{\"tracegroupgap\":0},\"title\":{\"text\":\"CREDIT UTILITY DISTRIBUTION\"},\"boxmode\":\"group\"},                        {\"responsive\": true}                    ).then(function(){\n",
              "                            \n",
              "var gd = document.getElementById('e8d63dc7-d92f-4ed9-8292-36b29a631207');\n",
              "var x = new MutationObserver(function (mutations, observer) {{\n",
              "        var display = window.getComputedStyle(gd).display;\n",
              "        if (!display || display === 'none') {{\n",
              "            console.log([gd, 'removed!']);\n",
              "            Plotly.purge(gd);\n",
              "            observer.disconnect();\n",
              "        }}\n",
              "}});\n",
              "\n",
              "// Listen for the removal of the full notebook cells\n",
              "var notebookContainer = gd.closest('#notebook-container');\n",
              "if (notebookContainer) {{\n",
              "    x.observe(notebookContainer, {childList: true});\n",
              "}}\n",
              "\n",
              "// Listen for the clearing of the current output cell\n",
              "var outputEl = gd.closest('.output');\n",
              "if (outputEl) {{\n",
              "    x.observe(outputEl, {childList: true});\n",
              "}}\n",
              "\n",
              "                        })                };                            </script>        </div>\n",
              "</body>\n",
              "</html>"
            ]
          },
          "metadata": {}
        }
      ]
    },
    {
      "cell_type": "code",
      "source": [
        "loan_amount_figure=px.histogram(data,x=\"Loan Amount\")\n",
        "loan_amount_figure"
      ],
      "metadata": {
        "colab": {
          "base_uri": "https://localhost:8080/",
          "height": 542
        },
        "id": "fk4tLlZt0tar",
        "outputId": "07df78b7-82e9-4253-83fa-396023edc0ca"
      },
      "execution_count": 11,
      "outputs": [
        {
          "output_type": "display_data",
          "data": {
            "text/html": [
              "<html>\n",
              "<head><meta charset=\"utf-8\" /></head>\n",
              "<body>\n",
              "    <div>            <script src=\"https://cdnjs.cloudflare.com/ajax/libs/mathjax/2.7.5/MathJax.js?config=TeX-AMS-MML_SVG\"></script><script type=\"text/javascript\">if (window.MathJax && window.MathJax.Hub && window.MathJax.Hub.Config) {window.MathJax.Hub.Config({SVG: {font: \"STIX-Web\"}});}</script>                <script type=\"text/javascript\">window.PlotlyConfig = {MathJaxConfig: 'local'};</script>\n",
              "        <script charset=\"utf-8\" src=\"https://cdn.plot.ly/plotly-2.35.2.min.js\"></script>                <div id=\"1c9e9148-36a6-4189-8587-854fdc3e1463\" class=\"plotly-graph-div\" style=\"height:525px; width:100%;\"></div>            <script type=\"text/javascript\">                                    window.PLOTLYENV=window.PLOTLYENV || {};                                    if (document.getElementById(\"1c9e9148-36a6-4189-8587-854fdc3e1463\")) {                    Plotly.newPlot(                        \"1c9e9148-36a6-4189-8587-854fdc3e1463\",                        [{\"alignmentgroup\":\"True\",\"bingroup\":\"x\",\"hovertemplate\":\"Loan Amount=%{x}\\u003cbr\\u003ecount=%{y}\\u003cextra\\u003e\\u003c\\u002fextra\\u003e\",\"legendgroup\":\"\",\"marker\":{\"color\":\"#636efa\",\"pattern\":{\"shape\":\"\"}},\"name\":\"\",\"offsetgroup\":\"\",\"orientation\":\"v\",\"showlegend\":false,\"x\":[4675000,3619000,957000,4731000,3289000,1536000,2021000,1298000,4374000,4026000,127000,3237000,586000,2323000,3775000,160000,1210000,3653000,1707000,524000,1481000,4959000,577000,4956000,3420000,1211000,166000,2464000,3653000,1038000,1862000,2887000,1774000,3046000,1009000,4461000,2733000,1168000,2803000,2912000,711000,994000,4789000,2274000,2917000,2876000,2605000,2920000,804000,2434000,360000,2250000,3248000,445000,1383000,827000,1879000,3509000,2669000,2209000,4501000,482000,2958000,1373000,4484000,1870000,2543000,1759000,4875000,775000,274000,4225000,2518000,4417000,3808000,2107000,4281000,1699000,2604000,3264000,3339000,1309000,3288000,943000,3557000,3968000,2609000,3111000,3055000,380000,4309000,4775000,3296000,2635000,3360000,3208000,3914000,1821000,4632000,2326000,1958000,1006000,2828000,1904000,3240000,603000,2513000,3183000,2951000,4550000,1420000,1908000,3416000,3713000,753000,3960000,1959000,2082000,3992000,2640000,744000,2797000,3772000,539000,2896000,1172000,2967000,417000,467000,1728000,2197000,3770000,3245000,4035000,1122000,4924000,3125000,236000,1569000,2562000,2500000,1667000,2564000,455000,361000,372000,2194000,1900000,836000,3132000,1189000,2759000,4446000,2402000,2932000,354000,1426000,1197000,525000,4016000,524000,3483000,2446000,3167000,3933000,2922000,4996000,3289000,1810000,4508000,4782000,2514000,3811000,2107000,143000,850000,1663000,4243000,1662000,900000,2633000,1440000,4111000,4508000,4465000,3932000,480000,3241000,4607000,3282000,231000,2066000,2087000,3684000,3258000,3594000,1698000,4121000,1816000,4009000,236000,4288000,4685000,670000,4728000,1349000,2140000,179000,4855000,3441000,4301000,2838000,819000,3368000,3865000,204000,2626000,2169000,3287000,2736000,3162000,3778000,3262000,813000,2882000,4298000,3920000,289000,3498000,1902000,4527000,1547000,1286000,4755000,1737000,1503000,4711000,959000,1861000,3043000,1237000,3394000,3479000,631000,4849000,3930000,3219000,109000,1209000,1298000,3554000,2179000,4374000,696000,712000,3585000,4600000,2151000,1474000,346000,4291000,203000,2375000,4001000,2135000,180000,2447000,728000,2768000,1113000,438000,1559000,200000,641000,3413000,2162000,2190000,3358000,2053000,1557000,1292000,267000,1288000,3765000,1168000,4262000,3847000,3620000,1464000,729000,3742000,516000,4129000,4203000,2309000,2009000,4312000,1717000,830000,4988000,4898000,513000,2012000,4433000,343000,4337000,4725000,1957000,171000,2635000,2604000,1680000,2276000,3107000,1636000,2286000,4545000,778000,1429000,1773000,2718000,4497000,1872000,508000,2220000,1251000,2306000,2873000,2247000,3674000,3226000,1048000,342000,4502000,3000000,728000,761000,3484000,555000,118000,997000,490000,4151000,3327000,4397000,1213000,3602000,2340000,3897000,3594000,4685000,1101000,435000,1945000,2877000,2145000,4414000,4573000,705000,691000,4587000,2628000,4678000,3406000,1730000,4187000,4176000,2727000,3983000,1748000,2286000,3998000,1278000,2044000,435000,3275000,4144000,1668000,4118000,429000,2478000,4385000,4485000,4322000,3698000,2476000,3246000,3167000,4946000,1899000,4057000,4471000,1734000,1421000,856000,2290000,2198000,2263000,2183000,2357000,3087000,2746000,4112000,199000,4054000,2446000,1323000,4182000,908000,1769000,2504000,2730000,3573000,635000,3370000,4094000,3749000,2647000,2613000,3411000,2488000,3898000,2358000,4281000,4044000,3966000,4710000,3742000,1400000,4599000,2203000,2815000,3180000,4621000,907000,3360000,1851000,2330000,2187000,3683000,2744000,3246000,2632000,1261000,2824000,758000,2657000,3838000,4894000,4792000,852000,1520000,1043000,1853000,3259000,170000,936000,2175000,2081000,2967000,2862000,3708000,2773000,2339000,1225000,1998000,4210000,4598000,4778000,558000,1235000,1136000,2912000,1616000,4239000,2433000,2604000,4901000,3685000,1854000,4507000,2537000,2900000,151000,4080000,4471000,361000,2377000,1795000,2846000,134000,289000,1087000,4916000,989000,759000,4047000,3902000,1169000,2144000,2081000,2684000,1265000,1825000,3491000,3721000,4084000,1308000,3671000,4948000,3192000,4063000,3909000,2651000,329000,1036000,1617000,1869000,4567000,444000,3381000,4694000,2213000,1190000,2418000,2320000,1932000,257000,4920000,1117000,3956000,4181000,3361000,3502000,260000,3927000,3472000,3583000,3255000,4093000,1610000,903000,4273000,463000,4963000,1777000,1594000,600000,1526000,2169000,4330000,3511000,4885000,693000,4418000,662000,1991000,4518000,3941000,1813000,2545000,4547000,497000,1453000,2759000,1320000,1334000,3469000,1742000,4391000,2684000,1271000,842000,4746000,1142000,3135000,2277000,509000,2806000,3229000,4509000,2714000,1180000,752000,656000,1321000,217000,3174000,1047000,790000,1684000,813000,1780000,3493000,349000,908000,4634000,4770000,4872000,3269000,326000,2068000,3966000,4884000,1498000,3472000,3683000,4423000,2348000,2619000,2081000,410000,267000,1279000,2862000,3526000,2430000,559000,3359000,3508000,4347000,1242000,3542000,1626000,1516000,4511000,2516000,2534000,3435000,4050000,3211000,2762000,3708000,4761000,3761000,3033000,4888000,3407000,149000,2811000,848000,1201000,857000,1401000,1347000,1003000,1056000,3874000,149000,2640000,233000,822000,4055000,3587000,4193000,1081000,2047000,4062000,4229000,1430000,2955000,988000,3804000,155000,2159000,350000,616000,2653000,3809000,4466000,2270000,1139000,4574000,4432000,1902000,3597000,1416000,1088000,1908000,3895000,849000,843000,4645000,259000,2952000,2494000,328000,1799000,649000,2655000,4609000,4145000,687000,2292000,1222000,3395000,3103000,3102000,1854000,4841000,294000,2810000,494000,1993000,4126000,2898000,3266000,538000,950000,1724000,1255000,1337000,3641000,2878000,1941000,1822000,3119000,1598000,2115000,1708000,2173000,1505000,4251000,1934000,4452000,2759000,4402000,2862000,3487000,2061000,1858000,1992000,2870000,1011000,325000,1541000,1190000,2411000,4933000,2190000,2111000,3550000,4345000,417000,3772000,751000,1913000,3266000,630000,1837000,201000,2629000,1215000,4323000,766000,3822000,2021000,3300000,1153000,3657000,3116000,2619000,4134000,4223000,426000,3189000,1341000,3436000,2684000,2685000,1531000,1786000,3269000,2332000,4176000,3275000,1131000,2803000,3690000,4333000,2141000,4096000,642000,848000,619000,994000,1324000,3260000,2609000,4528000,2651000,177000,540000,4199000,197000,1619000,3500000,1609000,394000,4580000,408000,724000,4595000,1476000,4700000,1964000,2466000,4728000,2343000,4313000,767000,4367000,3665000,1988000,2195000,1924000,3069000,4414000,3158000,149000,1769000,4310000,537000,2178000,965000,1326000,2920000,2172000,945000,2878000,1195000,2976000,3014000,1500000,4407000,1927000,1535000,1861000,3525000,231000,3809000,1344000,2466000,941000,1209000,1797000,4660000,2001000,1522000,1368000,2374000,665000,4246000,4578000,1805000,2572000,3266000,1332000,2612000,1556000,3654000,1641000,559000,2109000,2358000,3092000,3517000,1452000,4490000,2106000,831000,1603000,3149000,800000,167000,3027000,2858000,1321000,1874000,3887000,1480000,183000,4290000,406000,221000,3051000,1464000,971000,2532000,3564000,135000,2129000,3482000,2283000,333000,1665000,1306000,749000,1864000,364000,293000,2345000,2198000,2379000,1503000,3702000,2859000,4806000,517000,2083000,4575000,3001000,3237000,1999000,503000,2779000,2800000,754000,4526000,3895000,1336000,3897000,546000,2415000,4925000,4254000,4099000,4081000,108000,888000,2626000,3096000,2398000,2695000,1024000,4184000,3055000,3724000,923000,2197000,906000,332000,549000,2897000,1820000,4168000,4074000,2283000,1533000,3382000,4970000,4300000,2946000,4932000,3487000,2042000,3804000,4768000,822000,1654000,663000,4634000,4443000,371000,4240000,4116000,2011000,1151000,2098000,1615000,744000,2555000,2447000,2072000,2441000,4567000,329000,3988000,818000,204000,3109000,2277000,4351000,475000,3589000,4048000,1874000,3297000,4499000,3924000,4161000,2283000,1609000,301000,2561000,3530000,1377000,2443000,1301000,4182000],\"xaxis\":\"x\",\"yaxis\":\"y\",\"type\":\"histogram\"}],                        {\"template\":{\"data\":{\"histogram2dcontour\":[{\"type\":\"histogram2dcontour\",\"colorbar\":{\"outlinewidth\":0,\"ticks\":\"\"},\"colorscale\":[[0.0,\"#0d0887\"],[0.1111111111111111,\"#46039f\"],[0.2222222222222222,\"#7201a8\"],[0.3333333333333333,\"#9c179e\"],[0.4444444444444444,\"#bd3786\"],[0.5555555555555556,\"#d8576b\"],[0.6666666666666666,\"#ed7953\"],[0.7777777777777778,\"#fb9f3a\"],[0.8888888888888888,\"#fdca26\"],[1.0,\"#f0f921\"]]}],\"choropleth\":[{\"type\":\"choropleth\",\"colorbar\":{\"outlinewidth\":0,\"ticks\":\"\"}}],\"histogram2d\":[{\"type\":\"histogram2d\",\"colorbar\":{\"outlinewidth\":0,\"ticks\":\"\"},\"colorscale\":[[0.0,\"#0d0887\"],[0.1111111111111111,\"#46039f\"],[0.2222222222222222,\"#7201a8\"],[0.3333333333333333,\"#9c179e\"],[0.4444444444444444,\"#bd3786\"],[0.5555555555555556,\"#d8576b\"],[0.6666666666666666,\"#ed7953\"],[0.7777777777777778,\"#fb9f3a\"],[0.8888888888888888,\"#fdca26\"],[1.0,\"#f0f921\"]]}],\"heatmap\":[{\"type\":\"heatmap\",\"colorbar\":{\"outlinewidth\":0,\"ticks\":\"\"},\"colorscale\":[[0.0,\"#0d0887\"],[0.1111111111111111,\"#46039f\"],[0.2222222222222222,\"#7201a8\"],[0.3333333333333333,\"#9c179e\"],[0.4444444444444444,\"#bd3786\"],[0.5555555555555556,\"#d8576b\"],[0.6666666666666666,\"#ed7953\"],[0.7777777777777778,\"#fb9f3a\"],[0.8888888888888888,\"#fdca26\"],[1.0,\"#f0f921\"]]}],\"heatmapgl\":[{\"type\":\"heatmapgl\",\"colorbar\":{\"outlinewidth\":0,\"ticks\":\"\"},\"colorscale\":[[0.0,\"#0d0887\"],[0.1111111111111111,\"#46039f\"],[0.2222222222222222,\"#7201a8\"],[0.3333333333333333,\"#9c179e\"],[0.4444444444444444,\"#bd3786\"],[0.5555555555555556,\"#d8576b\"],[0.6666666666666666,\"#ed7953\"],[0.7777777777777778,\"#fb9f3a\"],[0.8888888888888888,\"#fdca26\"],[1.0,\"#f0f921\"]]}],\"contourcarpet\":[{\"type\":\"contourcarpet\",\"colorbar\":{\"outlinewidth\":0,\"ticks\":\"\"}}],\"contour\":[{\"type\":\"contour\",\"colorbar\":{\"outlinewidth\":0,\"ticks\":\"\"},\"colorscale\":[[0.0,\"#0d0887\"],[0.1111111111111111,\"#46039f\"],[0.2222222222222222,\"#7201a8\"],[0.3333333333333333,\"#9c179e\"],[0.4444444444444444,\"#bd3786\"],[0.5555555555555556,\"#d8576b\"],[0.6666666666666666,\"#ed7953\"],[0.7777777777777778,\"#fb9f3a\"],[0.8888888888888888,\"#fdca26\"],[1.0,\"#f0f921\"]]}],\"surface\":[{\"type\":\"surface\",\"colorbar\":{\"outlinewidth\":0,\"ticks\":\"\"},\"colorscale\":[[0.0,\"#0d0887\"],[0.1111111111111111,\"#46039f\"],[0.2222222222222222,\"#7201a8\"],[0.3333333333333333,\"#9c179e\"],[0.4444444444444444,\"#bd3786\"],[0.5555555555555556,\"#d8576b\"],[0.6666666666666666,\"#ed7953\"],[0.7777777777777778,\"#fb9f3a\"],[0.8888888888888888,\"#fdca26\"],[1.0,\"#f0f921\"]]}],\"mesh3d\":[{\"type\":\"mesh3d\",\"colorbar\":{\"outlinewidth\":0,\"ticks\":\"\"}}],\"scatter\":[{\"fillpattern\":{\"fillmode\":\"overlay\",\"size\":10,\"solidity\":0.2},\"type\":\"scatter\"}],\"parcoords\":[{\"type\":\"parcoords\",\"line\":{\"colorbar\":{\"outlinewidth\":0,\"ticks\":\"\"}}}],\"scatterpolargl\":[{\"type\":\"scatterpolargl\",\"marker\":{\"colorbar\":{\"outlinewidth\":0,\"ticks\":\"\"}}}],\"bar\":[{\"error_x\":{\"color\":\"#2a3f5f\"},\"error_y\":{\"color\":\"#2a3f5f\"},\"marker\":{\"line\":{\"color\":\"#E5ECF6\",\"width\":0.5},\"pattern\":{\"fillmode\":\"overlay\",\"size\":10,\"solidity\":0.2}},\"type\":\"bar\"}],\"scattergeo\":[{\"type\":\"scattergeo\",\"marker\":{\"colorbar\":{\"outlinewidth\":0,\"ticks\":\"\"}}}],\"scatterpolar\":[{\"type\":\"scatterpolar\",\"marker\":{\"colorbar\":{\"outlinewidth\":0,\"ticks\":\"\"}}}],\"histogram\":[{\"marker\":{\"pattern\":{\"fillmode\":\"overlay\",\"size\":10,\"solidity\":0.2}},\"type\":\"histogram\"}],\"scattergl\":[{\"type\":\"scattergl\",\"marker\":{\"colorbar\":{\"outlinewidth\":0,\"ticks\":\"\"}}}],\"scatter3d\":[{\"type\":\"scatter3d\",\"line\":{\"colorbar\":{\"outlinewidth\":0,\"ticks\":\"\"}},\"marker\":{\"colorbar\":{\"outlinewidth\":0,\"ticks\":\"\"}}}],\"scattermapbox\":[{\"type\":\"scattermapbox\",\"marker\":{\"colorbar\":{\"outlinewidth\":0,\"ticks\":\"\"}}}],\"scatterternary\":[{\"type\":\"scatterternary\",\"marker\":{\"colorbar\":{\"outlinewidth\":0,\"ticks\":\"\"}}}],\"scattercarpet\":[{\"type\":\"scattercarpet\",\"marker\":{\"colorbar\":{\"outlinewidth\":0,\"ticks\":\"\"}}}],\"carpet\":[{\"aaxis\":{\"endlinecolor\":\"#2a3f5f\",\"gridcolor\":\"white\",\"linecolor\":\"white\",\"minorgridcolor\":\"white\",\"startlinecolor\":\"#2a3f5f\"},\"baxis\":{\"endlinecolor\":\"#2a3f5f\",\"gridcolor\":\"white\",\"linecolor\":\"white\",\"minorgridcolor\":\"white\",\"startlinecolor\":\"#2a3f5f\"},\"type\":\"carpet\"}],\"table\":[{\"cells\":{\"fill\":{\"color\":\"#EBF0F8\"},\"line\":{\"color\":\"white\"}},\"header\":{\"fill\":{\"color\":\"#C8D4E3\"},\"line\":{\"color\":\"white\"}},\"type\":\"table\"}],\"barpolar\":[{\"marker\":{\"line\":{\"color\":\"#E5ECF6\",\"width\":0.5},\"pattern\":{\"fillmode\":\"overlay\",\"size\":10,\"solidity\":0.2}},\"type\":\"barpolar\"}],\"pie\":[{\"automargin\":true,\"type\":\"pie\"}]},\"layout\":{\"autotypenumbers\":\"strict\",\"colorway\":[\"#636efa\",\"#EF553B\",\"#00cc96\",\"#ab63fa\",\"#FFA15A\",\"#19d3f3\",\"#FF6692\",\"#B6E880\",\"#FF97FF\",\"#FECB52\"],\"font\":{\"color\":\"#2a3f5f\"},\"hovermode\":\"closest\",\"hoverlabel\":{\"align\":\"left\"},\"paper_bgcolor\":\"white\",\"plot_bgcolor\":\"#E5ECF6\",\"polar\":{\"bgcolor\":\"#E5ECF6\",\"angularaxis\":{\"gridcolor\":\"white\",\"linecolor\":\"white\",\"ticks\":\"\"},\"radialaxis\":{\"gridcolor\":\"white\",\"linecolor\":\"white\",\"ticks\":\"\"}},\"ternary\":{\"bgcolor\":\"#E5ECF6\",\"aaxis\":{\"gridcolor\":\"white\",\"linecolor\":\"white\",\"ticks\":\"\"},\"baxis\":{\"gridcolor\":\"white\",\"linecolor\":\"white\",\"ticks\":\"\"},\"caxis\":{\"gridcolor\":\"white\",\"linecolor\":\"white\",\"ticks\":\"\"}},\"coloraxis\":{\"colorbar\":{\"outlinewidth\":0,\"ticks\":\"\"}},\"colorscale\":{\"sequential\":[[0.0,\"#0d0887\"],[0.1111111111111111,\"#46039f\"],[0.2222222222222222,\"#7201a8\"],[0.3333333333333333,\"#9c179e\"],[0.4444444444444444,\"#bd3786\"],[0.5555555555555556,\"#d8576b\"],[0.6666666666666666,\"#ed7953\"],[0.7777777777777778,\"#fb9f3a\"],[0.8888888888888888,\"#fdca26\"],[1.0,\"#f0f921\"]],\"sequentialminus\":[[0.0,\"#0d0887\"],[0.1111111111111111,\"#46039f\"],[0.2222222222222222,\"#7201a8\"],[0.3333333333333333,\"#9c179e\"],[0.4444444444444444,\"#bd3786\"],[0.5555555555555556,\"#d8576b\"],[0.6666666666666666,\"#ed7953\"],[0.7777777777777778,\"#fb9f3a\"],[0.8888888888888888,\"#fdca26\"],[1.0,\"#f0f921\"]],\"diverging\":[[0,\"#8e0152\"],[0.1,\"#c51b7d\"],[0.2,\"#de77ae\"],[0.3,\"#f1b6da\"],[0.4,\"#fde0ef\"],[0.5,\"#f7f7f7\"],[0.6,\"#e6f5d0\"],[0.7,\"#b8e186\"],[0.8,\"#7fbc41\"],[0.9,\"#4d9221\"],[1,\"#276419\"]]},\"xaxis\":{\"gridcolor\":\"white\",\"linecolor\":\"white\",\"ticks\":\"\",\"title\":{\"standoff\":15},\"zerolinecolor\":\"white\",\"automargin\":true,\"zerolinewidth\":2},\"yaxis\":{\"gridcolor\":\"white\",\"linecolor\":\"white\",\"ticks\":\"\",\"title\":{\"standoff\":15},\"zerolinecolor\":\"white\",\"automargin\":true,\"zerolinewidth\":2},\"scene\":{\"xaxis\":{\"backgroundcolor\":\"#E5ECF6\",\"gridcolor\":\"white\",\"linecolor\":\"white\",\"showbackground\":true,\"ticks\":\"\",\"zerolinecolor\":\"white\",\"gridwidth\":2},\"yaxis\":{\"backgroundcolor\":\"#E5ECF6\",\"gridcolor\":\"white\",\"linecolor\":\"white\",\"showbackground\":true,\"ticks\":\"\",\"zerolinecolor\":\"white\",\"gridwidth\":2},\"zaxis\":{\"backgroundcolor\":\"#E5ECF6\",\"gridcolor\":\"white\",\"linecolor\":\"white\",\"showbackground\":true,\"ticks\":\"\",\"zerolinecolor\":\"white\",\"gridwidth\":2}},\"shapedefaults\":{\"line\":{\"color\":\"#2a3f5f\"}},\"annotationdefaults\":{\"arrowcolor\":\"#2a3f5f\",\"arrowhead\":0,\"arrowwidth\":1},\"geo\":{\"bgcolor\":\"white\",\"landcolor\":\"#E5ECF6\",\"subunitcolor\":\"white\",\"showland\":true,\"showlakes\":true,\"lakecolor\":\"white\"},\"title\":{\"x\":0.05},\"mapbox\":{\"style\":\"light\"}}},\"xaxis\":{\"anchor\":\"y\",\"domain\":[0.0,1.0],\"title\":{\"text\":\"Loan Amount\"}},\"yaxis\":{\"anchor\":\"x\",\"domain\":[0.0,1.0],\"title\":{\"text\":\"count\"}},\"legend\":{\"tracegroupgap\":0},\"margin\":{\"t\":60},\"barmode\":\"relative\"},                        {\"responsive\": true}                    ).then(function(){\n",
              "                            \n",
              "var gd = document.getElementById('1c9e9148-36a6-4189-8587-854fdc3e1463');\n",
              "var x = new MutationObserver(function (mutations, observer) {{\n",
              "        var display = window.getComputedStyle(gd).display;\n",
              "        if (!display || display === 'none') {{\n",
              "            console.log([gd, 'removed!']);\n",
              "            Plotly.purge(gd);\n",
              "            observer.disconnect();\n",
              "        }}\n",
              "}});\n",
              "\n",
              "// Listen for the removal of the full notebook cells\n",
              "var notebookContainer = gd.closest('#notebook-container');\n",
              "if (notebookContainer) {{\n",
              "    x.observe(notebookContainer, {childList: true});\n",
              "}}\n",
              "\n",
              "// Listen for the clearing of the current output cell\n",
              "var outputEl = gd.closest('.output');\n",
              "if (outputEl) {{\n",
              "    x.observe(outputEl, {childList: true});\n",
              "}}\n",
              "\n",
              "                        })                };                            </script>        </div>\n",
              "</body>\n",
              "</html>"
            ]
          },
          "metadata": {}
        }
      ]
    },
    {
      "cell_type": "code",
      "source": [],
      "metadata": {
        "id": "SPINYI8j7JGx"
      },
      "execution_count": 11,
      "outputs": []
    },
    {
      "cell_type": "code",
      "source": [
        "data['Education Level'].unique()\n",
        "data['Employment Status'].unique()"
      ],
      "metadata": {
        "colab": {
          "base_uri": "https://localhost:8080/"
        },
        "id": "9RKlWMvT7GpD",
        "outputId": "9cba1663-2673-4fe0-8e5e-d1facf02e937"
      },
      "execution_count": 12,
      "outputs": [
        {
          "output_type": "execute_result",
          "data": {
            "text/plain": [
              "array(['Employed', 'Unemployed', 'Self-Employed'], dtype=object)"
            ]
          },
          "metadata": {},
          "execution_count": 12
        }
      ]
    },
    {
      "cell_type": "code",
      "source": [
        "Education_level_mapping={'Master':3, 'High School':1, 'PhD':4, 'Bachelor':2}\n",
        "Employment_status_mapping={'Employed':2, 'Unemployed':1,'Self-Employed':3}"
      ],
      "metadata": {
        "id": "E2qBuJlo1qBP"
      },
      "execution_count": 13,
      "outputs": []
    },
    {
      "cell_type": "code",
      "source": [],
      "metadata": {
        "id": "MTBoxQ_y7FHd"
      },
      "execution_count": 13,
      "outputs": []
    },
    {
      "cell_type": "code",
      "source": [
        "data['Education Level']=data['Education Level'].map(Education_level_mapping)\n",
        "data['Employment Status']=data['Employment Status'].map(Employment_status_mapping)"
      ],
      "metadata": {
        "id": "JNC2VAVU69iE"
      },
      "execution_count": 14,
      "outputs": []
    },
    {
      "cell_type": "code",
      "source": [
        "data[\"Education Level\"].unique()"
      ],
      "metadata": {
        "colab": {
          "base_uri": "https://localhost:8080/"
        },
        "id": "Ioyt2d_y-EPH",
        "outputId": "4ae226dd-111a-4927-deaf-6dc3d787f24b"
      },
      "execution_count": 15,
      "outputs": [
        {
          "output_type": "execute_result",
          "data": {
            "text/plain": [
              "array([3, 1, 4, 2])"
            ]
          },
          "metadata": {},
          "execution_count": 15
        }
      ]
    },
    {
      "source": [
        "#Calculate credit scores using the complete FICO formula"
      ],
      "cell_type": "code",
      "metadata": {
        "id": "r6OTvjts4Jmh"
      },
      "execution_count": 16,
      "outputs": []
    },
    {
      "cell_type": "code",
      "source": [],
      "metadata": {
        "id": "5FVk_xcy-DfT"
      },
      "execution_count": 16,
      "outputs": []
    },
    {
      "cell_type": "code",
      "source": [
        "credit_scores = []\n",
        "\n",
        "for index, row in data.iterrows():\n",
        "    payment_history = row['Payment History']\n",
        "    credit_utilization_ratio = row['Credit Utilization Ratio']\n",
        "    number_of_credit_accounts = row['Number of Credit Accounts']\n",
        "    education_level = row['Education Level']\n",
        "    employment_status = row['Employment Status']\n",
        "    # Apply the FICO formula to calculate the credit score\n",
        "    credit_score = (payment_history * 0.35) + (credit_utilization_ratio * 0.30) + (number_of_credit_accounts * 0.15) + (education_level * 0.10) + (employment_status * 0.10)\n",
        "    credit_scores.append(credit_score)\n"
      ],
      "metadata": {
        "id": "FpkcKYfZ4Dw9"
      },
      "execution_count": 17,
      "outputs": []
    },
    {
      "cell_type": "code",
      "source": [
        "# Add the credit scores as a new column to the DataFrame\n",
        "data['Credit Score'] = credit_scores"
      ],
      "metadata": {
        "id": "wahbsSHM4ygt"
      },
      "execution_count": 18,
      "outputs": []
    },
    {
      "cell_type": "code",
      "source": [
        "print(data.head())"
      ],
      "metadata": {
        "id": "mGvtC4dN4LMK",
        "colab": {
          "base_uri": "https://localhost:8080/"
        },
        "outputId": "447d6c9c-c914-4ac3-9c3f-b7c8b7a7a688"
      },
      "execution_count": 19,
      "outputs": [
        {
          "output_type": "stream",
          "name": "stdout",
          "text": [
            "   Age  Gender Marital Status  Education Level  Employment Status  \\\n",
            "0   60    Male        Married                3                  2   \n",
            "1   25    Male        Married                1                  1   \n",
            "2   30  Female         Single                3                  2   \n",
            "3   58  Female        Married                4                  1   \n",
            "4   32    Male        Married                2                  3   \n",
            "\n",
            "   Credit Utilization Ratio  Payment History  Number of Credit Accounts  \\\n",
            "0                      0.22           2685.0                          2   \n",
            "1                      0.20           2371.0                          9   \n",
            "2                      0.22           2771.0                          6   \n",
            "3                      0.12           1371.0                          2   \n",
            "4                      0.99            828.0                          2   \n",
            "\n",
            "   Loan Amount  Interest Rate  Loan Term   Type of Loan  Credit Score  \n",
            "0      4675000           2.65         48  Personal Loan       940.616  \n",
            "1      3619000           5.19         60      Auto Loan       831.460  \n",
            "2       957000           2.76         12      Auto Loan       971.316  \n",
            "3      4731000           6.57         60      Auto Loan       480.686  \n",
            "4      3289000           6.28         36  Personal Loan       290.897  \n"
          ]
        }
      ]
    },
    {
      "cell_type": "code",
      "source": [
        "from sklearn.cluster import KMeans\n",
        "\n",
        "X = data[['Credit Score']]\n",
        "kmeans = KMeans(n_clusters=4, n_init=10, random_state=42)\n",
        "kmeans.fit(X)\n",
        "data['Segment'] = kmeans.labels_"
      ],
      "metadata": {
        "id": "G5aPAn_P9eTo"
      },
      "execution_count": 20,
      "outputs": []
    },
    {
      "cell_type": "code",
      "source": [
        "# Convert the 'Segment' column to category data type\n",
        "data['Segment'] = data['Segment'].astype('category')\n",
        "\n",
        "# Visualize the segments using Plotly\n",
        "fig = px.scatter(data, x=data.index, y='Credit Score', color='Segment',\n",
        "                 color_discrete_sequence=['green', 'blue', 'yellow', 'red'])\n",
        "fig.update_layout(\n",
        "    xaxis_title='Customer Index',\n",
        "    yaxis_title='Credit Score',\n",
        "    title='Customer Segmentation based on Credit Scores'\n",
        ")\n",
        "fig.show()"
      ],
      "metadata": {
        "colab": {
          "base_uri": "https://localhost:8080/",
          "height": 542
        },
        "id": "ctzymmld9yAD",
        "outputId": "e3023c15-6fdd-41d1-fb8b-970ae0af40a4"
      },
      "execution_count": 21,
      "outputs": [
        {
          "output_type": "display_data",
          "data": {
            "text/html": [
              "<html>\n",
              "<head><meta charset=\"utf-8\" /></head>\n",
              "<body>\n",
              "    <div>            <script src=\"https://cdnjs.cloudflare.com/ajax/libs/mathjax/2.7.5/MathJax.js?config=TeX-AMS-MML_SVG\"></script><script type=\"text/javascript\">if (window.MathJax && window.MathJax.Hub && window.MathJax.Hub.Config) {window.MathJax.Hub.Config({SVG: {font: \"STIX-Web\"}});}</script>                <script type=\"text/javascript\">window.PlotlyConfig = {MathJaxConfig: 'local'};</script>\n",
              "        <script charset=\"utf-8\" src=\"https://cdn.plot.ly/plotly-2.35.2.min.js\"></script>                <div id=\"bd1210b6-a0e0-4e74-90bb-a50bdd4e4de2\" class=\"plotly-graph-div\" style=\"height:525px; width:100%;\"></div>            <script type=\"text/javascript\">                                    window.PLOTLYENV=window.PLOTLYENV || {};                                    if (document.getElementById(\"bd1210b6-a0e0-4e74-90bb-a50bdd4e4de2\")) {                    Plotly.newPlot(                        \"bd1210b6-a0e0-4e74-90bb-a50bdd4e4de2\",                        [{\"hovertemplate\":\"Segment=3\\u003cbr\\u003eindex=%{x}\\u003cbr\\u003eCredit Score=%{y}\\u003cextra\\u003e\\u003c\\u002fextra\\u003e\",\"legendgroup\":\"3\",\"marker\":{\"color\":\"green\",\"symbol\":\"circle\"},\"mode\":\"markers\",\"name\":\"3\",\"orientation\":\"v\",\"showlegend\":true,\"x\":[0,1,2,5,6,14,26,41,48,60,63,64,67,72,73,74,75,79,97,103,104,108,117,118,125,129,135,140,144,147,148,149,153,154,156,169,171,173,175,178,192,200,203,213,220,221,224,233,240,242,247,249,250,253,255,264,278,284,286,288,292,298,300,302,308,311,313,314,316,317,322,328,332,340,341,345,350,351,352,355,356,357,358,362,364,365,372,373,378,380,383,394,398,407,409,416,418,420,426,428,433,439,444,447,451,458,464,467,468,470,477,481,484,488,491,492,494,496,504,506,507,508,513,526,529,533,538,543,544,545,546,547,548,549,551,552,553,555,560,563,564,566,568,583,587,589,594,598,604,608,612,614,619,620,622,626,637,639,640,661,667,669,681,689,690,695,697,699,701,702,721,722,730,737,744,746,749,752,753,755,756,763,765,766,769,774,782,788,791,801,802,806,807,812,813,819,821,822,823,842,846,855,856,858,859,860,869,874,875,880,895,898,899,901,913,921,926,939,940,945,948,949,957,970,972,985,987,991,992,997],\"xaxis\":\"x\",\"y\":[940.6159999999999,831.4599999999999,971.3159999999999,820.6819999999999,980.5459999999999,831.6499999999997,831.8939999999999,880.6949999999999,840.727,921.744,870.674,791.2299999999999,801.987,881.4990000000001,981.6859999999997,961.308,801.859,971.9989999999999,1002.247,981.745,851.079,891.0039999999999,820.755,801.5350000000001,821.1679999999999,1001.941,801.7620000000001,821.0119999999998,951.203,901.6809999999999,911.651,911.3049999999998,811.825,921.898,880.8849999999999,841.5990000000002,921.4179999999999,941.7829999999999,820.4459999999999,821.169,861.4299999999998,940.658,800.7730000000001,811.063,1001.6139999999999,900.788,861.4939999999999,881.042,860.9469999999999,981.0889999999998,900.8479999999998,990.8919999999999,950.813,812.072,911.9369999999999,1001.2869999999999,982.0589999999999,881.2429999999999,931.251,871.0450000000001,842.187,930.6279999999999,831.7279999999998,870.9079999999999,820.823,831.2129999999999,1001.609,921.972,871.136,911.146,931.069,920.324,991.483,911.5919999999999,961.1519999999999,871.163,901.6229999999999,941.688,900.899,821.8719999999998,981.6729999999999,981.701,891.4129999999999,951.316,781.004,921.7299999999999,961.554,971.7619999999998,861.583,810.841,1001.9799999999999,900.4559999999999,891.012,921.156,861.8859999999999,801.73,961.376,781.078,930.7479999999998,881.5740000000001,920.5719999999999,861.524,931.0259999999998,931.415,981.3479999999998,801.005,991.424,781.8929999999999,940.362,891.5840000000001,891.7979999999999,781.343,861.899,1000.6329999999999,841.206,981.9589999999998,860.641,901.9539999999998,781.824,841.3149999999999,820.253,892.1669999999999,882.0509999999999,981.6919999999999,881.6140000000001,1000.5179999999999,801.58,971.8489999999999,921.57,941.3299999999998,781.666,881.939,812.0799999999999,931.7839999999998,960.4739999999999,901.64,810.588,821.5609999999999,820.5819999999998,901.091,900.5629999999999,962.0699999999998,1001.159,970.6759999999999,901.626,920.4369999999999,800.9499999999999,970.6669999999998,851.443,951.898,921.5550000000001,981.3799999999999,801.326,891.2959999999999,981.006,1001.385,870.6539999999999,821.1080000000001,981.6219999999998,960.6399999999999,871.8199999999999,941.0189999999999,940.967,830.828,1001.247,891.568,971.122,861.972,830.7009999999999,921.0279999999999,780.7369999999999,881.611,891.3789999999999,911.6599999999999,841.224,861.913,800.846,801.096,941.2029999999999,921.612,960.593,931.408,901.555,860.6889999999999,951.4129999999999,971.1799999999998,982.2789999999999,931.558,950.9660000000001,791.6389999999998,880.954,891.959,862.043,950.307,972.001,951.592,991.5749999999999,981.2499999999999,971.6469999999998,930.8470000000001,881.0680000000001,990.7579999999999,900.988,951.972,820.168,900.9999999999999,991.717,891.487,850.8609999999999,960.9519999999999,991.3889999999999,800.797,842.27,930.966,921.5079999999999,841.859,891.557,981.0419999999999,1001.5539999999999,920.6389999999999,950.8420000000001,850.897,812.1389999999999,840.72,791.9629999999999,831.6439999999998,920.759,850.951,981.047,921.9539999999998],\"yaxis\":\"y\",\"type\":\"scatter\"},{\"hovertemplate\":\"Segment=0\\u003cbr\\u003eindex=%{x}\\u003cbr\\u003eCredit Score=%{y}\\u003cextra\\u003e\\u003c\\u002fextra\\u003e\",\"legendgroup\":\"0\",\"marker\":{\"color\":\"blue\",\"symbol\":\"circle\"},\"mode\":\"markers\",\"name\":\"0\",\"orientation\":\"v\",\"showlegend\":true,\"x\":[3,4,7,8,9,12,16,20,21,24,34,36,37,44,49,51,52,54,55,58,59,68,82,84,86,87,88,89,90,91,92,95,101,107,115,116,120,123,132,134,137,141,143,145,146,157,160,161,163,165,170,176,180,182,191,208,215,217,218,226,229,230,237,241,246,251,257,259,260,263,268,269,270,271,279,287,289,291,293,296,301,303,305,309,315,320,323,329,330,333,334,336,338,343,349,353,354,359,360,368,371,376,377,385,388,391,393,399,403,404,405,406,408,411,415,417,429,430,432,434,443,446,450,456,459,460,469,471,475,478,480,482,485,487,497,499,500,514,515,516,518,519,520,522,527,528,530,532,535,537,539,554,561,562,565,567,570,573,574,584,588,590,593,599,600,601,602,603,605,607,609,610,615,618,629,630,632,638,656,659,678,679,686,693,694,696,700,705,715,718,723,724,725,726,727,728,731,736,740,741,742,745,748,750,751,754,757,762,770,771,772,775,781,789,793,808,809,810,816,818,825,826,827,828,832,838,845,847,850,852,854,861,862,863,865,870,873,878,885,889,892,896,902,906,907,910,911,917,918,919,923,925,931,932,934,941,943,947,950,952,954,961,963,967,971,977,978,979,981,983,989,995,998,999],\"xaxis\":\"x\",\"y\":[480.686,290.897,501.6979999999999,281.07,481.86799999999994,391.079,271.901,510.86299999999994,270.6569999999999,301.216,330.52399999999994,422.385,372.12,301.513,431.48499999999996,271.58299999999997,392.07399999999996,461.83299999999997,411.127,510.937,341.40999999999997,391.751,421.874,311.82900000000006,441.98199999999997,482.08299999999997,360.82500000000005,391.495,461.887,281.69199999999995,331.82500000000005,350.736,511.6,442.155,410.70599999999996,391.32399999999996,471.162,432.02299999999997,490.91099999999994,301.53399999999993,471.24199999999996,491.8219999999999,441.95699999999994,491.91099999999994,400.861,441.69700000000006,450.56599999999986,331.029,432.087,381.972,311.04400000000004,501.69999999999993,341.4849999999999,281.233,511.67199999999997,290.87600000000003,411.28000000000003,461.484,501.2029999999999,391.042,490.82699999999994,331.53799999999995,271.232,410.895,320.895,401.138,300.885,340.68399999999997,460.58799999999997,510.844,501.57899999999995,401.185,381.793,381.015,491.3739999999999,491.4,480.751,300.73400000000004,501.6929999999999,500.5399999999999,421.32,521.8230000000001,471.36,271.8879999999999,421.737,281.319,321.91400000000004,461.4549999999999,341.038,400.22799999999995,311.548,511.04200000000003,431.20099999999996,411.88,481.498,401.784,271.4549999999999,321.565,491.09599999999995,421.904,370.919,442.09599999999995,270.692,290.74399999999997,321.21500000000003,491.262,300.412,271.943,400.206,301.365,461.675,481.118,321.5659999999999,431.02399999999994,451.0619999999999,330.96099999999996,450.61799999999994,450.8069999999999,331.64,410.873,450.6119999999999,480.43399999999997,411.984,481.71700000000004,280.93500000000006,391.745,372.101,410.82699999999994,311.4800000000001,480.646,401.233,520.5,520.7339999999999,400.463,421.476,302.327,432.02099999999996,371.765,320.43399999999997,301.88399999999996,381.57,401.764,322.24,281.08500000000004,321.57099999999997,421.795,430.659,301.65000000000003,390.515,350.96799999999996,361.245,420.474,411.645,471.019,511.926,390.515,441.55299999999994,481.05699999999996,381.295,320.486,291.61299999999994,371.765,451.63199999999995,331.21799999999996,442.002,311.068,410.5059999999999,401.256,381.831,322.02299999999997,301.03799999999995,322.195,351.65399999999994,301.586,420.81800000000004,381.386,351.661,342.239,441.607,331.008,391.07599999999996,391.944,410.8829999999999,401.04999999999995,420.938,482.041,351.119,430.42199999999997,421.781,391.782,301.53499999999997,371.675,471.729,371.97,421.26500000000004,361.4309999999999,451.29299999999995,491.52199999999993,500.42099999999994,271.469,321.235,500.90899999999993,431.29699999999997,511.501,271.421,311.67900000000003,282.01,482.03499999999997,361.47599999999994,270.871,370.50100000000003,461.796,281.581,501.02799999999996,301.609,481.68899999999996,451.6819999999999,400.523,421.436,471.091,351.02000000000004,290.98900000000003,441.50800000000004,352.087,321.915,330.61400000000003,430.522,280.74999999999994,440.896,451.2809999999999,460.37699999999995,281.736,480.892,420.784,390.477,391.781,401.252,270.89399999999995,521.5999999999999,441.935,491.3319999999999,351.198,511.403,400.38599999999997,270.613,510.852,351.516,310.91800000000006,431.14699999999993,461.316,511.08699999999993,281.567,281.044,480.477,441.491,521.6909999999999,340.77399999999994,302.294,490.78599999999994,451.74799999999993,442.13800000000003,290.48599999999993,330.19100000000003,491.394,461.84,361.929,351.423,322.081,331.082,451.70599999999996,461.24,451.4719999999999,400.94599999999997,361.20099999999996],\"yaxis\":\"y\",\"type\":\"scatter\"},{\"hovertemplate\":\"Segment=2\\u003cbr\\u003eindex=%{x}\\u003cbr\\u003eCredit Score=%{y}\\u003cextra\\u003e\\u003c\\u002fextra\\u003e\",\"legendgroup\":\"2\",\"marker\":{\"color\":\"yellow\",\"symbol\":\"circle\"},\"mode\":\"markers\",\"name\":\"2\",\"orientation\":\"v\",\"showlegend\":true,\"x\":[10,11,18,27,28,30,31,33,46,47,50,53,56,57,61,65,76,77,78,85,93,96,98,99,105,109,110,112,113,114,122,126,128,136,142,151,152,158,166,168,172,174,179,184,187,188,194,196,202,204,205,210,214,216,219,222,227,232,238,239,245,248,252,254,256,258,261,266,267,272,273,275,276,282,283,290,297,299,318,319,324,327,337,339,344,347,348,361,366,367,369,370,375,379,382,384,389,390,400,410,413,414,422,424,425,427,435,436,437,438,448,449,452,453,454,455,457,462,463,465,472,476,486,493,495,502,505,511,512,521,523,524,525,531,534,540,541,542,550,558,575,578,582,585,586,592,595,597,613,621,624,625,627,628,631,634,635,636,645,650,653,658,662,666,670,673,674,680,682,687,691,704,706,707,709,710,714,716,719,720,729,732,733,739,743,747,758,759,764,767,773,776,777,778,783,784,795,797,800,805,811,814,817,820,824,830,835,837,839,844,848,849,857,864,866,867,871,876,877,879,884,887,897,900,904,905,908,914,915,924,927,929,930,935,936,937,946,951,956,959,964,965,969,973,974,975,982,986,990,993],\"xaxis\":\"x\",\"y\":[201.63699999999997,250.90299999999996,131.052,190.97199999999998,61.12299999999999,51.093,30.863999999999994,81.149,1.214,31.432,80.416,151.88,231.80499999999998,100.83499999999998,161.41299999999998,120.78799999999997,150.78799999999995,181.688,1.231,181.27299999999997,81.466,240.67,180.64999999999995,21.076999999999998,161.72199999999998,30.538999999999998,60.879999999999995,51.001,1.899,21.662,50.695,231.158,211.73099999999997,101.898,232.02899999999997,91.34599999999999,70.82900000000001,180.73499999999999,141.549,191.243,101.338,121.06599999999999,111.806,211.362,171.45400000000004,150.80799999999996,190.976,111.90499999999997,210.98699999999997,1.9969999999999999,121.68299999999999,170.87800000000004,231.539,170.914,251.78499999999997,191.325,50.72099999999999,231.24299999999997,151.06099999999998,72.143,201.68599999999998,151.152,261.51400000000007,221.86499999999998,260.574,170.30299999999997,0.6719999999999999,71.09700000000001,171.03,170.89000000000001,90.47699999999999,190.434,251.892,181.91799999999998,170.69,212.18200000000002,211.48499999999999,182.12299999999996,212.228,42.06399999999999,151.682,261.25,20.875000000000004,120.83499999999998,171.64000000000004,71.215,41.525,131.279,241.07099999999997,211.03800000000004,171.758,41.813,221.412,171.57699999999997,21.289,51.675999999999995,200.88400000000001,110.853,251.06299999999996,101.435,130.50099999999998,190.378,130.80599999999998,91.93399999999997,41.322,140.86599999999999,41.857,90.783,72.437,241.51699999999994,101.58900000000001,171.48899999999998,190.60699999999997,21.385,180.76899999999998,61.536,20.878999999999998,180.44599999999997,31.688999999999997,201.291,50.815,41.945,191.071,181.146,251.94899999999998,111.19799999999998,31.107999999999997,110.96699999999997,11.562,231.457,111.88799999999998,91.94799999999998,71.549,131.46,181.51199999999994,41.983000000000004,151.42199999999997,191.23299999999995,51.593999999999994,81.08499999999998,81.847,211.92999999999998,151.12199999999999,30.650999999999996,121.67099999999999,251.30799999999996,191.154,41.187999999999995,111.54799999999997,231.64199999999997,251.34099999999995,150.73499999999999,180.60399999999998,171.253,161.21400000000003,201.59099999999995,181.05499999999998,1.95,51.274,240.39199999999997,131.599,202.00099999999998,201.17299999999997,211.94400000000005,31.548,131.472,161.46799999999996,191.501,241.61799999999997,150.66400000000002,0.841,120.53899999999999,70.686,71.98,81.78,231.236,51.435,241.63699999999994,160.89199999999997,190.98699999999997,261.51599999999996,170.63699999999997,241.70899999999995,221.633,241.32,0.7650000000000001,180.81499999999994,251.248,91.69699999999997,111.386,10.677999999999999,170.65200000000002,240.52299999999997,101.572,110.73599999999999,1.524,122.10699999999999,150.84099999999995,50.63,121.231,11.529,141.651,101.64699999999999,41.272,251.64599999999996,110.874,201.904,61.211,221.14099999999996,10.582999999999998,141.964,100.50800000000001,200.65200000000002,40.86000000000001,121.30999999999999,41.526999999999994,110.70799999999998,251.581,191.512,100.98100000000001,241.95499999999996,120.58599999999998,230.828,31.656999999999996,81.86999999999999,231.459,251.44299999999998,50.663999999999994,150.82399999999996,60.466,180.82,211.10899999999998,11.508000000000001,201.168,1.497,181.11299999999994,260.23,201.453,40.475,91.515,71.27299999999998,101.82199999999999,161.57399999999996,180.696,100.414,231.36299999999997,40.68300000000001,30.822999999999997,91.41799999999999,41.48],\"yaxis\":\"y\",\"type\":\"scatter\"},{\"hovertemplate\":\"Segment=1\\u003cbr\\u003eindex=%{x}\\u003cbr\\u003eCredit Score=%{y}\\u003cextra\\u003e\\u003c\\u002fextra\\u003e\",\"legendgroup\":\"1\",\"marker\":{\"color\":\"red\",\"symbol\":\"circle\"},\"mode\":\"markers\",\"name\":\"1\",\"orientation\":\"v\",\"showlegend\":true,\"x\":[13,15,17,19,22,23,25,29,32,35,38,39,40,42,43,45,62,66,69,70,71,80,81,83,94,100,102,106,111,119,121,124,127,130,131,133,138,139,150,155,159,162,164,167,177,181,183,185,186,189,190,193,195,197,198,199,201,206,207,209,211,212,223,225,228,231,234,235,236,243,244,262,265,274,277,280,281,285,294,295,304,306,307,310,312,321,325,326,331,335,342,346,363,374,381,386,387,392,395,396,397,401,402,412,419,421,423,431,440,441,442,445,461,466,473,474,479,483,489,490,498,501,503,509,510,517,536,556,557,559,569,571,572,576,577,579,580,581,591,596,606,611,616,617,623,633,641,642,643,644,646,647,648,649,651,652,654,655,657,660,663,664,665,668,671,672,675,676,677,683,684,685,688,692,698,703,708,711,712,713,717,734,735,738,760,761,768,779,780,785,786,787,790,792,794,796,798,799,803,804,815,829,831,833,834,836,840,841,843,851,853,868,872,881,882,883,886,888,890,891,893,894,903,909,912,916,920,922,928,933,938,942,944,953,955,958,960,962,966,968,976,980,984,988,994,996],\"xaxis\":\"x\",\"y\":[701.0480000000001,750.665,551.18,700.832,671.126,721.0859999999999,641.0120000000001,710.6629999999999,601.161,550.5119999999998,551.8369999999999,651.774,601.772,591.6380000000001,601.922,531.313,611.184,761.5849999999999,632.05,731.8380000000001,741.7039999999998,601.646,580.8589999999999,550.8749999999999,680.519,571.727,741.936,540.5319999999999,531.5329999999999,601.732,731.023,771.105,691.853,771.296,650.7810000000001,600.8370000000001,691.2619999999998,580.534,591.671,731.2629999999999,632.078,571.7669999999999,601.763,671.744,692.0969999999999,591.1010000000001,760.7539999999999,651.7349999999999,740.925,541.766,531.9430000000001,750.818,711.6229999999999,710.916,610.8,651.8279999999999,721.1189999999999,582.1379999999999,600.8639999999999,750.938,761.5309999999998,741.7069999999999,681.81,591.861,591.018,581.9549999999999,620.9849999999999,562.1129999999999,721.884,581.077,730.9019999999999,531.496,691.1559999999998,731.451,641.6729999999999,721.86,770.9180000000001,720.7159999999999,570.6609999999998,691.401,672.234,602.288,730.765,771.345,631.0590000000001,581.9849999999999,661.03,771.0500000000001,531.105,631.0050000000001,701.472,741.968,731.662,580.8409999999998,741.03,660.256,542.0549999999998,661.0550000000001,730.679,681.688,610.7579999999999,611.088,671.289,661.875,711.473,581.983,531.116,691.521,561.5,690.9219999999999,660.78,731.519,670.963,562.0790000000001,571.3689999999999,690.9579999999999,671.2589999999999,701.39,671.4689999999999,660.5669999999999,772.231,561.318,571.1859999999999,770.707,721.944,561.222,541.24,741.282,621.7049999999999,631.1600000000001,772.2470000000001,541.4929999999999,751.5289999999999,730.453,531.2810000000001,661.003,711.94,611.1759999999999,561.883,691.5999999999998,671.7209999999999,551.7679999999998,601.0649999999999,770.6410000000001,531.4599999999998,621.0219999999999,551.09,761.6809999999998,590.652,611.1739999999999,640.3739999999999,751.49,680.2829999999999,771.9910000000001,681.0519999999999,561.8220000000001,752.0469999999999,531.767,531.4129999999999,621.168,561.705,531.6159999999999,661.6349999999999,692.2419999999998,641.1779999999999,742.143,561.826,600.313,660.687,680.648,620.7769999999998,690.894,701.646,681.7479999999999,632.2119999999999,730.424,541.7139999999999,691.0739999999998,710.422,591.957,701.051,771.8490000000002,660.318,581.814,610.7579999999999,540.8279999999999,681.2399999999999,661.5920000000001,691.194,750.798,761.2379999999999,631.499,740.775,600.7800000000001,561.7889999999999,680.623,710.898,660.8900000000001,652.0479999999999,680.481,721.622,700.6530000000001,691.9709999999999,640.8059999999998,631.8930000000001,701.0129999999999,701.189,551.569,581.529,571.545,631.976,641.498,620.691,731.7729999999999,580.9449999999999,740.635,702.3109999999999,740.382,531.3519999999999,731.4509999999999,731.136,750.939,571.297,751.5299999999999,630.9939999999999,621.044,730.857,651.4999999999999,601.705,531.3669999999998,541.242,721.386,650.4739999999999,771.438,601.4789999999999,670.8480000000001,711.036,730.871,610.855,550.6569999999998,751.1429999999999,590.632,731.01,771.6400000000001,711.02,650.781],\"yaxis\":\"y\",\"type\":\"scatter\"}],                        {\"template\":{\"data\":{\"histogram2dcontour\":[{\"type\":\"histogram2dcontour\",\"colorbar\":{\"outlinewidth\":0,\"ticks\":\"\"},\"colorscale\":[[0.0,\"#0d0887\"],[0.1111111111111111,\"#46039f\"],[0.2222222222222222,\"#7201a8\"],[0.3333333333333333,\"#9c179e\"],[0.4444444444444444,\"#bd3786\"],[0.5555555555555556,\"#d8576b\"],[0.6666666666666666,\"#ed7953\"],[0.7777777777777778,\"#fb9f3a\"],[0.8888888888888888,\"#fdca26\"],[1.0,\"#f0f921\"]]}],\"choropleth\":[{\"type\":\"choropleth\",\"colorbar\":{\"outlinewidth\":0,\"ticks\":\"\"}}],\"histogram2d\":[{\"type\":\"histogram2d\",\"colorbar\":{\"outlinewidth\":0,\"ticks\":\"\"},\"colorscale\":[[0.0,\"#0d0887\"],[0.1111111111111111,\"#46039f\"],[0.2222222222222222,\"#7201a8\"],[0.3333333333333333,\"#9c179e\"],[0.4444444444444444,\"#bd3786\"],[0.5555555555555556,\"#d8576b\"],[0.6666666666666666,\"#ed7953\"],[0.7777777777777778,\"#fb9f3a\"],[0.8888888888888888,\"#fdca26\"],[1.0,\"#f0f921\"]]}],\"heatmap\":[{\"type\":\"heatmap\",\"colorbar\":{\"outlinewidth\":0,\"ticks\":\"\"},\"colorscale\":[[0.0,\"#0d0887\"],[0.1111111111111111,\"#46039f\"],[0.2222222222222222,\"#7201a8\"],[0.3333333333333333,\"#9c179e\"],[0.4444444444444444,\"#bd3786\"],[0.5555555555555556,\"#d8576b\"],[0.6666666666666666,\"#ed7953\"],[0.7777777777777778,\"#fb9f3a\"],[0.8888888888888888,\"#fdca26\"],[1.0,\"#f0f921\"]]}],\"heatmapgl\":[{\"type\":\"heatmapgl\",\"colorbar\":{\"outlinewidth\":0,\"ticks\":\"\"},\"colorscale\":[[0.0,\"#0d0887\"],[0.1111111111111111,\"#46039f\"],[0.2222222222222222,\"#7201a8\"],[0.3333333333333333,\"#9c179e\"],[0.4444444444444444,\"#bd3786\"],[0.5555555555555556,\"#d8576b\"],[0.6666666666666666,\"#ed7953\"],[0.7777777777777778,\"#fb9f3a\"],[0.8888888888888888,\"#fdca26\"],[1.0,\"#f0f921\"]]}],\"contourcarpet\":[{\"type\":\"contourcarpet\",\"colorbar\":{\"outlinewidth\":0,\"ticks\":\"\"}}],\"contour\":[{\"type\":\"contour\",\"colorbar\":{\"outlinewidth\":0,\"ticks\":\"\"},\"colorscale\":[[0.0,\"#0d0887\"],[0.1111111111111111,\"#46039f\"],[0.2222222222222222,\"#7201a8\"],[0.3333333333333333,\"#9c179e\"],[0.4444444444444444,\"#bd3786\"],[0.5555555555555556,\"#d8576b\"],[0.6666666666666666,\"#ed7953\"],[0.7777777777777778,\"#fb9f3a\"],[0.8888888888888888,\"#fdca26\"],[1.0,\"#f0f921\"]]}],\"surface\":[{\"type\":\"surface\",\"colorbar\":{\"outlinewidth\":0,\"ticks\":\"\"},\"colorscale\":[[0.0,\"#0d0887\"],[0.1111111111111111,\"#46039f\"],[0.2222222222222222,\"#7201a8\"],[0.3333333333333333,\"#9c179e\"],[0.4444444444444444,\"#bd3786\"],[0.5555555555555556,\"#d8576b\"],[0.6666666666666666,\"#ed7953\"],[0.7777777777777778,\"#fb9f3a\"],[0.8888888888888888,\"#fdca26\"],[1.0,\"#f0f921\"]]}],\"mesh3d\":[{\"type\":\"mesh3d\",\"colorbar\":{\"outlinewidth\":0,\"ticks\":\"\"}}],\"scatter\":[{\"fillpattern\":{\"fillmode\":\"overlay\",\"size\":10,\"solidity\":0.2},\"type\":\"scatter\"}],\"parcoords\":[{\"type\":\"parcoords\",\"line\":{\"colorbar\":{\"outlinewidth\":0,\"ticks\":\"\"}}}],\"scatterpolargl\":[{\"type\":\"scatterpolargl\",\"marker\":{\"colorbar\":{\"outlinewidth\":0,\"ticks\":\"\"}}}],\"bar\":[{\"error_x\":{\"color\":\"#2a3f5f\"},\"error_y\":{\"color\":\"#2a3f5f\"},\"marker\":{\"line\":{\"color\":\"#E5ECF6\",\"width\":0.5},\"pattern\":{\"fillmode\":\"overlay\",\"size\":10,\"solidity\":0.2}},\"type\":\"bar\"}],\"scattergeo\":[{\"type\":\"scattergeo\",\"marker\":{\"colorbar\":{\"outlinewidth\":0,\"ticks\":\"\"}}}],\"scatterpolar\":[{\"type\":\"scatterpolar\",\"marker\":{\"colorbar\":{\"outlinewidth\":0,\"ticks\":\"\"}}}],\"histogram\":[{\"marker\":{\"pattern\":{\"fillmode\":\"overlay\",\"size\":10,\"solidity\":0.2}},\"type\":\"histogram\"}],\"scattergl\":[{\"type\":\"scattergl\",\"marker\":{\"colorbar\":{\"outlinewidth\":0,\"ticks\":\"\"}}}],\"scatter3d\":[{\"type\":\"scatter3d\",\"line\":{\"colorbar\":{\"outlinewidth\":0,\"ticks\":\"\"}},\"marker\":{\"colorbar\":{\"outlinewidth\":0,\"ticks\":\"\"}}}],\"scattermapbox\":[{\"type\":\"scattermapbox\",\"marker\":{\"colorbar\":{\"outlinewidth\":0,\"ticks\":\"\"}}}],\"scatterternary\":[{\"type\":\"scatterternary\",\"marker\":{\"colorbar\":{\"outlinewidth\":0,\"ticks\":\"\"}}}],\"scattercarpet\":[{\"type\":\"scattercarpet\",\"marker\":{\"colorbar\":{\"outlinewidth\":0,\"ticks\":\"\"}}}],\"carpet\":[{\"aaxis\":{\"endlinecolor\":\"#2a3f5f\",\"gridcolor\":\"white\",\"linecolor\":\"white\",\"minorgridcolor\":\"white\",\"startlinecolor\":\"#2a3f5f\"},\"baxis\":{\"endlinecolor\":\"#2a3f5f\",\"gridcolor\":\"white\",\"linecolor\":\"white\",\"minorgridcolor\":\"white\",\"startlinecolor\":\"#2a3f5f\"},\"type\":\"carpet\"}],\"table\":[{\"cells\":{\"fill\":{\"color\":\"#EBF0F8\"},\"line\":{\"color\":\"white\"}},\"header\":{\"fill\":{\"color\":\"#C8D4E3\"},\"line\":{\"color\":\"white\"}},\"type\":\"table\"}],\"barpolar\":[{\"marker\":{\"line\":{\"color\":\"#E5ECF6\",\"width\":0.5},\"pattern\":{\"fillmode\":\"overlay\",\"size\":10,\"solidity\":0.2}},\"type\":\"barpolar\"}],\"pie\":[{\"automargin\":true,\"type\":\"pie\"}]},\"layout\":{\"autotypenumbers\":\"strict\",\"colorway\":[\"#636efa\",\"#EF553B\",\"#00cc96\",\"#ab63fa\",\"#FFA15A\",\"#19d3f3\",\"#FF6692\",\"#B6E880\",\"#FF97FF\",\"#FECB52\"],\"font\":{\"color\":\"#2a3f5f\"},\"hovermode\":\"closest\",\"hoverlabel\":{\"align\":\"left\"},\"paper_bgcolor\":\"white\",\"plot_bgcolor\":\"#E5ECF6\",\"polar\":{\"bgcolor\":\"#E5ECF6\",\"angularaxis\":{\"gridcolor\":\"white\",\"linecolor\":\"white\",\"ticks\":\"\"},\"radialaxis\":{\"gridcolor\":\"white\",\"linecolor\":\"white\",\"ticks\":\"\"}},\"ternary\":{\"bgcolor\":\"#E5ECF6\",\"aaxis\":{\"gridcolor\":\"white\",\"linecolor\":\"white\",\"ticks\":\"\"},\"baxis\":{\"gridcolor\":\"white\",\"linecolor\":\"white\",\"ticks\":\"\"},\"caxis\":{\"gridcolor\":\"white\",\"linecolor\":\"white\",\"ticks\":\"\"}},\"coloraxis\":{\"colorbar\":{\"outlinewidth\":0,\"ticks\":\"\"}},\"colorscale\":{\"sequential\":[[0.0,\"#0d0887\"],[0.1111111111111111,\"#46039f\"],[0.2222222222222222,\"#7201a8\"],[0.3333333333333333,\"#9c179e\"],[0.4444444444444444,\"#bd3786\"],[0.5555555555555556,\"#d8576b\"],[0.6666666666666666,\"#ed7953\"],[0.7777777777777778,\"#fb9f3a\"],[0.8888888888888888,\"#fdca26\"],[1.0,\"#f0f921\"]],\"sequentialminus\":[[0.0,\"#0d0887\"],[0.1111111111111111,\"#46039f\"],[0.2222222222222222,\"#7201a8\"],[0.3333333333333333,\"#9c179e\"],[0.4444444444444444,\"#bd3786\"],[0.5555555555555556,\"#d8576b\"],[0.6666666666666666,\"#ed7953\"],[0.7777777777777778,\"#fb9f3a\"],[0.8888888888888888,\"#fdca26\"],[1.0,\"#f0f921\"]],\"diverging\":[[0,\"#8e0152\"],[0.1,\"#c51b7d\"],[0.2,\"#de77ae\"],[0.3,\"#f1b6da\"],[0.4,\"#fde0ef\"],[0.5,\"#f7f7f7\"],[0.6,\"#e6f5d0\"],[0.7,\"#b8e186\"],[0.8,\"#7fbc41\"],[0.9,\"#4d9221\"],[1,\"#276419\"]]},\"xaxis\":{\"gridcolor\":\"white\",\"linecolor\":\"white\",\"ticks\":\"\",\"title\":{\"standoff\":15},\"zerolinecolor\":\"white\",\"automargin\":true,\"zerolinewidth\":2},\"yaxis\":{\"gridcolor\":\"white\",\"linecolor\":\"white\",\"ticks\":\"\",\"title\":{\"standoff\":15},\"zerolinecolor\":\"white\",\"automargin\":true,\"zerolinewidth\":2},\"scene\":{\"xaxis\":{\"backgroundcolor\":\"#E5ECF6\",\"gridcolor\":\"white\",\"linecolor\":\"white\",\"showbackground\":true,\"ticks\":\"\",\"zerolinecolor\":\"white\",\"gridwidth\":2},\"yaxis\":{\"backgroundcolor\":\"#E5ECF6\",\"gridcolor\":\"white\",\"linecolor\":\"white\",\"showbackground\":true,\"ticks\":\"\",\"zerolinecolor\":\"white\",\"gridwidth\":2},\"zaxis\":{\"backgroundcolor\":\"#E5ECF6\",\"gridcolor\":\"white\",\"linecolor\":\"white\",\"showbackground\":true,\"ticks\":\"\",\"zerolinecolor\":\"white\",\"gridwidth\":2}},\"shapedefaults\":{\"line\":{\"color\":\"#2a3f5f\"}},\"annotationdefaults\":{\"arrowcolor\":\"#2a3f5f\",\"arrowhead\":0,\"arrowwidth\":1},\"geo\":{\"bgcolor\":\"white\",\"landcolor\":\"#E5ECF6\",\"subunitcolor\":\"white\",\"showland\":true,\"showlakes\":true,\"lakecolor\":\"white\"},\"title\":{\"x\":0.05},\"mapbox\":{\"style\":\"light\"}}},\"xaxis\":{\"anchor\":\"y\",\"domain\":[0.0,1.0],\"title\":{\"text\":\"Customer Index\"}},\"yaxis\":{\"anchor\":\"x\",\"domain\":[0.0,1.0],\"title\":{\"text\":\"Credit Score\"}},\"legend\":{\"title\":{\"text\":\"Segment\"},\"tracegroupgap\":0},\"margin\":{\"t\":60},\"title\":{\"text\":\"Customer Segmentation based on Credit Scores\"}},                        {\"responsive\": true}                    ).then(function(){\n",
              "                            \n",
              "var gd = document.getElementById('bd1210b6-a0e0-4e74-90bb-a50bdd4e4de2');\n",
              "var x = new MutationObserver(function (mutations, observer) {{\n",
              "        var display = window.getComputedStyle(gd).display;\n",
              "        if (!display || display === 'none') {{\n",
              "            console.log([gd, 'removed!']);\n",
              "            Plotly.purge(gd);\n",
              "            observer.disconnect();\n",
              "        }}\n",
              "}});\n",
              "\n",
              "// Listen for the removal of the full notebook cells\n",
              "var notebookContainer = gd.closest('#notebook-container');\n",
              "if (notebookContainer) {{\n",
              "    x.observe(notebookContainer, {childList: true});\n",
              "}}\n",
              "\n",
              "// Listen for the clearing of the current output cell\n",
              "var outputEl = gd.closest('.output');\n",
              "if (outputEl) {{\n",
              "    x.observe(outputEl, {childList: true});\n",
              "}}\n",
              "\n",
              "                        })                };                            </script>        </div>\n",
              "</body>\n",
              "</html>"
            ]
          },
          "metadata": {}
        }
      ]
    },
    {
      "cell_type": "code",
      "source": [
        "data['Segment'] = data['Segment'].map({2: 'Very Low',\n",
        "                                       0: 'Low',\n",
        "                                       1: 'Good',\n",
        "                                       3: \"Excellent\"})\n",
        "\n",
        "# Convert the 'Segment' column to category data type\n",
        "data['Segment'] = data['Segment'].astype('category')\n",
        "\n",
        "# Visualize the segments using Plotly\n",
        "fig = px.scatter(data, x=data.index, y='Credit Score', color='Segment',\n",
        "                 color_discrete_sequence=['green', 'blue', 'yellow', 'red'])\n",
        "fig.update_layout(\n",
        "    xaxis_title='Customer Index',\n",
        "    yaxis_title='Credit Score',\n",
        "    title='Customer Segmentation based on Credit Scores'\n",
        ")\n",
        "fig.show()"
      ],
      "metadata": {
        "colab": {
          "base_uri": "https://localhost:8080/",
          "height": 542
        },
        "id": "Oqvz58qP_MhM",
        "outputId": "721473cb-4cef-4d7a-fb90-0617fc2b311f"
      },
      "execution_count": 22,
      "outputs": [
        {
          "output_type": "display_data",
          "data": {
            "text/html": [
              "<html>\n",
              "<head><meta charset=\"utf-8\" /></head>\n",
              "<body>\n",
              "    <div>            <script src=\"https://cdnjs.cloudflare.com/ajax/libs/mathjax/2.7.5/MathJax.js?config=TeX-AMS-MML_SVG\"></script><script type=\"text/javascript\">if (window.MathJax && window.MathJax.Hub && window.MathJax.Hub.Config) {window.MathJax.Hub.Config({SVG: {font: \"STIX-Web\"}});}</script>                <script type=\"text/javascript\">window.PlotlyConfig = {MathJaxConfig: 'local'};</script>\n",
              "        <script charset=\"utf-8\" src=\"https://cdn.plot.ly/plotly-2.35.2.min.js\"></script>                <div id=\"58a2d221-0f3b-42d5-8c70-387717006596\" class=\"plotly-graph-div\" style=\"height:525px; width:100%;\"></div>            <script type=\"text/javascript\">                                    window.PLOTLYENV=window.PLOTLYENV || {};                                    if (document.getElementById(\"58a2d221-0f3b-42d5-8c70-387717006596\")) {                    Plotly.newPlot(                        \"58a2d221-0f3b-42d5-8c70-387717006596\",                        [{\"hovertemplate\":\"Segment=Excellent\\u003cbr\\u003eindex=%{x}\\u003cbr\\u003eCredit Score=%{y}\\u003cextra\\u003e\\u003c\\u002fextra\\u003e\",\"legendgroup\":\"Excellent\",\"marker\":{\"color\":\"green\",\"symbol\":\"circle\"},\"mode\":\"markers\",\"name\":\"Excellent\",\"orientation\":\"v\",\"showlegend\":true,\"x\":[0,1,2,5,6,14,26,41,48,60,63,64,67,72,73,74,75,79,97,103,104,108,117,118,125,129,135,140,144,147,148,149,153,154,156,169,171,173,175,178,192,200,203,213,220,221,224,233,240,242,247,249,250,253,255,264,278,284,286,288,292,298,300,302,308,311,313,314,316,317,322,328,332,340,341,345,350,351,352,355,356,357,358,362,364,365,372,373,378,380,383,394,398,407,409,416,418,420,426,428,433,439,444,447,451,458,464,467,468,470,477,481,484,488,491,492,494,496,504,506,507,508,513,526,529,533,538,543,544,545,546,547,548,549,551,552,553,555,560,563,564,566,568,583,587,589,594,598,604,608,612,614,619,620,622,626,637,639,640,661,667,669,681,689,690,695,697,699,701,702,721,722,730,737,744,746,749,752,753,755,756,763,765,766,769,774,782,788,791,801,802,806,807,812,813,819,821,822,823,842,846,855,856,858,859,860,869,874,875,880,895,898,899,901,913,921,926,939,940,945,948,949,957,970,972,985,987,991,992,997],\"xaxis\":\"x\",\"y\":[940.6159999999999,831.4599999999999,971.3159999999999,820.6819999999999,980.5459999999999,831.6499999999997,831.8939999999999,880.6949999999999,840.727,921.744,870.674,791.2299999999999,801.987,881.4990000000001,981.6859999999997,961.308,801.859,971.9989999999999,1002.247,981.745,851.079,891.0039999999999,820.755,801.5350000000001,821.1679999999999,1001.941,801.7620000000001,821.0119999999998,951.203,901.6809999999999,911.651,911.3049999999998,811.825,921.898,880.8849999999999,841.5990000000002,921.4179999999999,941.7829999999999,820.4459999999999,821.169,861.4299999999998,940.658,800.7730000000001,811.063,1001.6139999999999,900.788,861.4939999999999,881.042,860.9469999999999,981.0889999999998,900.8479999999998,990.8919999999999,950.813,812.072,911.9369999999999,1001.2869999999999,982.0589999999999,881.2429999999999,931.251,871.0450000000001,842.187,930.6279999999999,831.7279999999998,870.9079999999999,820.823,831.2129999999999,1001.609,921.972,871.136,911.146,931.069,920.324,991.483,911.5919999999999,961.1519999999999,871.163,901.6229999999999,941.688,900.899,821.8719999999998,981.6729999999999,981.701,891.4129999999999,951.316,781.004,921.7299999999999,961.554,971.7619999999998,861.583,810.841,1001.9799999999999,900.4559999999999,891.012,921.156,861.8859999999999,801.73,961.376,781.078,930.7479999999998,881.5740000000001,920.5719999999999,861.524,931.0259999999998,931.415,981.3479999999998,801.005,991.424,781.8929999999999,940.362,891.5840000000001,891.7979999999999,781.343,861.899,1000.6329999999999,841.206,981.9589999999998,860.641,901.9539999999998,781.824,841.3149999999999,820.253,892.1669999999999,882.0509999999999,981.6919999999999,881.6140000000001,1000.5179999999999,801.58,971.8489999999999,921.57,941.3299999999998,781.666,881.939,812.0799999999999,931.7839999999998,960.4739999999999,901.64,810.588,821.5609999999999,820.5819999999998,901.091,900.5629999999999,962.0699999999998,1001.159,970.6759999999999,901.626,920.4369999999999,800.9499999999999,970.6669999999998,851.443,951.898,921.5550000000001,981.3799999999999,801.326,891.2959999999999,981.006,1001.385,870.6539999999999,821.1080000000001,981.6219999999998,960.6399999999999,871.8199999999999,941.0189999999999,940.967,830.828,1001.247,891.568,971.122,861.972,830.7009999999999,921.0279999999999,780.7369999999999,881.611,891.3789999999999,911.6599999999999,841.224,861.913,800.846,801.096,941.2029999999999,921.612,960.593,931.408,901.555,860.6889999999999,951.4129999999999,971.1799999999998,982.2789999999999,931.558,950.9660000000001,791.6389999999998,880.954,891.959,862.043,950.307,972.001,951.592,991.5749999999999,981.2499999999999,971.6469999999998,930.8470000000001,881.0680000000001,990.7579999999999,900.988,951.972,820.168,900.9999999999999,991.717,891.487,850.8609999999999,960.9519999999999,991.3889999999999,800.797,842.27,930.966,921.5079999999999,841.859,891.557,981.0419999999999,1001.5539999999999,920.6389999999999,950.8420000000001,850.897,812.1389999999999,840.72,791.9629999999999,831.6439999999998,920.759,850.951,981.047,921.9539999999998],\"yaxis\":\"y\",\"type\":\"scatter\"},{\"hovertemplate\":\"Segment=Low\\u003cbr\\u003eindex=%{x}\\u003cbr\\u003eCredit Score=%{y}\\u003cextra\\u003e\\u003c\\u002fextra\\u003e\",\"legendgroup\":\"Low\",\"marker\":{\"color\":\"blue\",\"symbol\":\"circle\"},\"mode\":\"markers\",\"name\":\"Low\",\"orientation\":\"v\",\"showlegend\":true,\"x\":[3,4,7,8,9,12,16,20,21,24,34,36,37,44,49,51,52,54,55,58,59,68,82,84,86,87,88,89,90,91,92,95,101,107,115,116,120,123,132,134,137,141,143,145,146,157,160,161,163,165,170,176,180,182,191,208,215,217,218,226,229,230,237,241,246,251,257,259,260,263,268,269,270,271,279,287,289,291,293,296,301,303,305,309,315,320,323,329,330,333,334,336,338,343,349,353,354,359,360,368,371,376,377,385,388,391,393,399,403,404,405,406,408,411,415,417,429,430,432,434,443,446,450,456,459,460,469,471,475,478,480,482,485,487,497,499,500,514,515,516,518,519,520,522,527,528,530,532,535,537,539,554,561,562,565,567,570,573,574,584,588,590,593,599,600,601,602,603,605,607,609,610,615,618,629,630,632,638,656,659,678,679,686,693,694,696,700,705,715,718,723,724,725,726,727,728,731,736,740,741,742,745,748,750,751,754,757,762,770,771,772,775,781,789,793,808,809,810,816,818,825,826,827,828,832,838,845,847,850,852,854,861,862,863,865,870,873,878,885,889,892,896,902,906,907,910,911,917,918,919,923,925,931,932,934,941,943,947,950,952,954,961,963,967,971,977,978,979,981,983,989,995,998,999],\"xaxis\":\"x\",\"y\":[480.686,290.897,501.6979999999999,281.07,481.86799999999994,391.079,271.901,510.86299999999994,270.6569999999999,301.216,330.52399999999994,422.385,372.12,301.513,431.48499999999996,271.58299999999997,392.07399999999996,461.83299999999997,411.127,510.937,341.40999999999997,391.751,421.874,311.82900000000006,441.98199999999997,482.08299999999997,360.82500000000005,391.495,461.887,281.69199999999995,331.82500000000005,350.736,511.6,442.155,410.70599999999996,391.32399999999996,471.162,432.02299999999997,490.91099999999994,301.53399999999993,471.24199999999996,491.8219999999999,441.95699999999994,491.91099999999994,400.861,441.69700000000006,450.56599999999986,331.029,432.087,381.972,311.04400000000004,501.69999999999993,341.4849999999999,281.233,511.67199999999997,290.87600000000003,411.28000000000003,461.484,501.2029999999999,391.042,490.82699999999994,331.53799999999995,271.232,410.895,320.895,401.138,300.885,340.68399999999997,460.58799999999997,510.844,501.57899999999995,401.185,381.793,381.015,491.3739999999999,491.4,480.751,300.73400000000004,501.6929999999999,500.5399999999999,421.32,521.8230000000001,471.36,271.8879999999999,421.737,281.319,321.91400000000004,461.4549999999999,341.038,400.22799999999995,311.548,511.04200000000003,431.20099999999996,411.88,481.498,401.784,271.4549999999999,321.565,491.09599999999995,421.904,370.919,442.09599999999995,270.692,290.74399999999997,321.21500000000003,491.262,300.412,271.943,400.206,301.365,461.675,481.118,321.5659999999999,431.02399999999994,451.0619999999999,330.96099999999996,450.61799999999994,450.8069999999999,331.64,410.873,450.6119999999999,480.43399999999997,411.984,481.71700000000004,280.93500000000006,391.745,372.101,410.82699999999994,311.4800000000001,480.646,401.233,520.5,520.7339999999999,400.463,421.476,302.327,432.02099999999996,371.765,320.43399999999997,301.88399999999996,381.57,401.764,322.24,281.08500000000004,321.57099999999997,421.795,430.659,301.65000000000003,390.515,350.96799999999996,361.245,420.474,411.645,471.019,511.926,390.515,441.55299999999994,481.05699999999996,381.295,320.486,291.61299999999994,371.765,451.63199999999995,331.21799999999996,442.002,311.068,410.5059999999999,401.256,381.831,322.02299999999997,301.03799999999995,322.195,351.65399999999994,301.586,420.81800000000004,381.386,351.661,342.239,441.607,331.008,391.07599999999996,391.944,410.8829999999999,401.04999999999995,420.938,482.041,351.119,430.42199999999997,421.781,391.782,301.53499999999997,371.675,471.729,371.97,421.26500000000004,361.4309999999999,451.29299999999995,491.52199999999993,500.42099999999994,271.469,321.235,500.90899999999993,431.29699999999997,511.501,271.421,311.67900000000003,282.01,482.03499999999997,361.47599999999994,270.871,370.50100000000003,461.796,281.581,501.02799999999996,301.609,481.68899999999996,451.6819999999999,400.523,421.436,471.091,351.02000000000004,290.98900000000003,441.50800000000004,352.087,321.915,330.61400000000003,430.522,280.74999999999994,440.896,451.2809999999999,460.37699999999995,281.736,480.892,420.784,390.477,391.781,401.252,270.89399999999995,521.5999999999999,441.935,491.3319999999999,351.198,511.403,400.38599999999997,270.613,510.852,351.516,310.91800000000006,431.14699999999993,461.316,511.08699999999993,281.567,281.044,480.477,441.491,521.6909999999999,340.77399999999994,302.294,490.78599999999994,451.74799999999993,442.13800000000003,290.48599999999993,330.19100000000003,491.394,461.84,361.929,351.423,322.081,331.082,451.70599999999996,461.24,451.4719999999999,400.94599999999997,361.20099999999996],\"yaxis\":\"y\",\"type\":\"scatter\"},{\"hovertemplate\":\"Segment=Very Low\\u003cbr\\u003eindex=%{x}\\u003cbr\\u003eCredit Score=%{y}\\u003cextra\\u003e\\u003c\\u002fextra\\u003e\",\"legendgroup\":\"Very Low\",\"marker\":{\"color\":\"yellow\",\"symbol\":\"circle\"},\"mode\":\"markers\",\"name\":\"Very Low\",\"orientation\":\"v\",\"showlegend\":true,\"x\":[10,11,18,27,28,30,31,33,46,47,50,53,56,57,61,65,76,77,78,85,93,96,98,99,105,109,110,112,113,114,122,126,128,136,142,151,152,158,166,168,172,174,179,184,187,188,194,196,202,204,205,210,214,216,219,222,227,232,238,239,245,248,252,254,256,258,261,266,267,272,273,275,276,282,283,290,297,299,318,319,324,327,337,339,344,347,348,361,366,367,369,370,375,379,382,384,389,390,400,410,413,414,422,424,425,427,435,436,437,438,448,449,452,453,454,455,457,462,463,465,472,476,486,493,495,502,505,511,512,521,523,524,525,531,534,540,541,542,550,558,575,578,582,585,586,592,595,597,613,621,624,625,627,628,631,634,635,636,645,650,653,658,662,666,670,673,674,680,682,687,691,704,706,707,709,710,714,716,719,720,729,732,733,739,743,747,758,759,764,767,773,776,777,778,783,784,795,797,800,805,811,814,817,820,824,830,835,837,839,844,848,849,857,864,866,867,871,876,877,879,884,887,897,900,904,905,908,914,915,924,927,929,930,935,936,937,946,951,956,959,964,965,969,973,974,975,982,986,990,993],\"xaxis\":\"x\",\"y\":[201.63699999999997,250.90299999999996,131.052,190.97199999999998,61.12299999999999,51.093,30.863999999999994,81.149,1.214,31.432,80.416,151.88,231.80499999999998,100.83499999999998,161.41299999999998,120.78799999999997,150.78799999999995,181.688,1.231,181.27299999999997,81.466,240.67,180.64999999999995,21.076999999999998,161.72199999999998,30.538999999999998,60.879999999999995,51.001,1.899,21.662,50.695,231.158,211.73099999999997,101.898,232.02899999999997,91.34599999999999,70.82900000000001,180.73499999999999,141.549,191.243,101.338,121.06599999999999,111.806,211.362,171.45400000000004,150.80799999999996,190.976,111.90499999999997,210.98699999999997,1.9969999999999999,121.68299999999999,170.87800000000004,231.539,170.914,251.78499999999997,191.325,50.72099999999999,231.24299999999997,151.06099999999998,72.143,201.68599999999998,151.152,261.51400000000007,221.86499999999998,260.574,170.30299999999997,0.6719999999999999,71.09700000000001,171.03,170.89000000000001,90.47699999999999,190.434,251.892,181.91799999999998,170.69,212.18200000000002,211.48499999999999,182.12299999999996,212.228,42.06399999999999,151.682,261.25,20.875000000000004,120.83499999999998,171.64000000000004,71.215,41.525,131.279,241.07099999999997,211.03800000000004,171.758,41.813,221.412,171.57699999999997,21.289,51.675999999999995,200.88400000000001,110.853,251.06299999999996,101.435,130.50099999999998,190.378,130.80599999999998,91.93399999999997,41.322,140.86599999999999,41.857,90.783,72.437,241.51699999999994,101.58900000000001,171.48899999999998,190.60699999999997,21.385,180.76899999999998,61.536,20.878999999999998,180.44599999999997,31.688999999999997,201.291,50.815,41.945,191.071,181.146,251.94899999999998,111.19799999999998,31.107999999999997,110.96699999999997,11.562,231.457,111.88799999999998,91.94799999999998,71.549,131.46,181.51199999999994,41.983000000000004,151.42199999999997,191.23299999999995,51.593999999999994,81.08499999999998,81.847,211.92999999999998,151.12199999999999,30.650999999999996,121.67099999999999,251.30799999999996,191.154,41.187999999999995,111.54799999999997,231.64199999999997,251.34099999999995,150.73499999999999,180.60399999999998,171.253,161.21400000000003,201.59099999999995,181.05499999999998,1.95,51.274,240.39199999999997,131.599,202.00099999999998,201.17299999999997,211.94400000000005,31.548,131.472,161.46799999999996,191.501,241.61799999999997,150.66400000000002,0.841,120.53899999999999,70.686,71.98,81.78,231.236,51.435,241.63699999999994,160.89199999999997,190.98699999999997,261.51599999999996,170.63699999999997,241.70899999999995,221.633,241.32,0.7650000000000001,180.81499999999994,251.248,91.69699999999997,111.386,10.677999999999999,170.65200000000002,240.52299999999997,101.572,110.73599999999999,1.524,122.10699999999999,150.84099999999995,50.63,121.231,11.529,141.651,101.64699999999999,41.272,251.64599999999996,110.874,201.904,61.211,221.14099999999996,10.582999999999998,141.964,100.50800000000001,200.65200000000002,40.86000000000001,121.30999999999999,41.526999999999994,110.70799999999998,251.581,191.512,100.98100000000001,241.95499999999996,120.58599999999998,230.828,31.656999999999996,81.86999999999999,231.459,251.44299999999998,50.663999999999994,150.82399999999996,60.466,180.82,211.10899999999998,11.508000000000001,201.168,1.497,181.11299999999994,260.23,201.453,40.475,91.515,71.27299999999998,101.82199999999999,161.57399999999996,180.696,100.414,231.36299999999997,40.68300000000001,30.822999999999997,91.41799999999999,41.48],\"yaxis\":\"y\",\"type\":\"scatter\"},{\"hovertemplate\":\"Segment=Good\\u003cbr\\u003eindex=%{x}\\u003cbr\\u003eCredit Score=%{y}\\u003cextra\\u003e\\u003c\\u002fextra\\u003e\",\"legendgroup\":\"Good\",\"marker\":{\"color\":\"red\",\"symbol\":\"circle\"},\"mode\":\"markers\",\"name\":\"Good\",\"orientation\":\"v\",\"showlegend\":true,\"x\":[13,15,17,19,22,23,25,29,32,35,38,39,40,42,43,45,62,66,69,70,71,80,81,83,94,100,102,106,111,119,121,124,127,130,131,133,138,139,150,155,159,162,164,167,177,181,183,185,186,189,190,193,195,197,198,199,201,206,207,209,211,212,223,225,228,231,234,235,236,243,244,262,265,274,277,280,281,285,294,295,304,306,307,310,312,321,325,326,331,335,342,346,363,374,381,386,387,392,395,396,397,401,402,412,419,421,423,431,440,441,442,445,461,466,473,474,479,483,489,490,498,501,503,509,510,517,536,556,557,559,569,571,572,576,577,579,580,581,591,596,606,611,616,617,623,633,641,642,643,644,646,647,648,649,651,652,654,655,657,660,663,664,665,668,671,672,675,676,677,683,684,685,688,692,698,703,708,711,712,713,717,734,735,738,760,761,768,779,780,785,786,787,790,792,794,796,798,799,803,804,815,829,831,833,834,836,840,841,843,851,853,868,872,881,882,883,886,888,890,891,893,894,903,909,912,916,920,922,928,933,938,942,944,953,955,958,960,962,966,968,976,980,984,988,994,996],\"xaxis\":\"x\",\"y\":[701.0480000000001,750.665,551.18,700.832,671.126,721.0859999999999,641.0120000000001,710.6629999999999,601.161,550.5119999999998,551.8369999999999,651.774,601.772,591.6380000000001,601.922,531.313,611.184,761.5849999999999,632.05,731.8380000000001,741.7039999999998,601.646,580.8589999999999,550.8749999999999,680.519,571.727,741.936,540.5319999999999,531.5329999999999,601.732,731.023,771.105,691.853,771.296,650.7810000000001,600.8370000000001,691.2619999999998,580.534,591.671,731.2629999999999,632.078,571.7669999999999,601.763,671.744,692.0969999999999,591.1010000000001,760.7539999999999,651.7349999999999,740.925,541.766,531.9430000000001,750.818,711.6229999999999,710.916,610.8,651.8279999999999,721.1189999999999,582.1379999999999,600.8639999999999,750.938,761.5309999999998,741.7069999999999,681.81,591.861,591.018,581.9549999999999,620.9849999999999,562.1129999999999,721.884,581.077,730.9019999999999,531.496,691.1559999999998,731.451,641.6729999999999,721.86,770.9180000000001,720.7159999999999,570.6609999999998,691.401,672.234,602.288,730.765,771.345,631.0590000000001,581.9849999999999,661.03,771.0500000000001,531.105,631.0050000000001,701.472,741.968,731.662,580.8409999999998,741.03,660.256,542.0549999999998,661.0550000000001,730.679,681.688,610.7579999999999,611.088,671.289,661.875,711.473,581.983,531.116,691.521,561.5,690.9219999999999,660.78,731.519,670.963,562.0790000000001,571.3689999999999,690.9579999999999,671.2589999999999,701.39,671.4689999999999,660.5669999999999,772.231,561.318,571.1859999999999,770.707,721.944,561.222,541.24,741.282,621.7049999999999,631.1600000000001,772.2470000000001,541.4929999999999,751.5289999999999,730.453,531.2810000000001,661.003,711.94,611.1759999999999,561.883,691.5999999999998,671.7209999999999,551.7679999999998,601.0649999999999,770.6410000000001,531.4599999999998,621.0219999999999,551.09,761.6809999999998,590.652,611.1739999999999,640.3739999999999,751.49,680.2829999999999,771.9910000000001,681.0519999999999,561.8220000000001,752.0469999999999,531.767,531.4129999999999,621.168,561.705,531.6159999999999,661.6349999999999,692.2419999999998,641.1779999999999,742.143,561.826,600.313,660.687,680.648,620.7769999999998,690.894,701.646,681.7479999999999,632.2119999999999,730.424,541.7139999999999,691.0739999999998,710.422,591.957,701.051,771.8490000000002,660.318,581.814,610.7579999999999,540.8279999999999,681.2399999999999,661.5920000000001,691.194,750.798,761.2379999999999,631.499,740.775,600.7800000000001,561.7889999999999,680.623,710.898,660.8900000000001,652.0479999999999,680.481,721.622,700.6530000000001,691.9709999999999,640.8059999999998,631.8930000000001,701.0129999999999,701.189,551.569,581.529,571.545,631.976,641.498,620.691,731.7729999999999,580.9449999999999,740.635,702.3109999999999,740.382,531.3519999999999,731.4509999999999,731.136,750.939,571.297,751.5299999999999,630.9939999999999,621.044,730.857,651.4999999999999,601.705,531.3669999999998,541.242,721.386,650.4739999999999,771.438,601.4789999999999,670.8480000000001,711.036,730.871,610.855,550.6569999999998,751.1429999999999,590.632,731.01,771.6400000000001,711.02,650.781],\"yaxis\":\"y\",\"type\":\"scatter\"}],                        {\"template\":{\"data\":{\"histogram2dcontour\":[{\"type\":\"histogram2dcontour\",\"colorbar\":{\"outlinewidth\":0,\"ticks\":\"\"},\"colorscale\":[[0.0,\"#0d0887\"],[0.1111111111111111,\"#46039f\"],[0.2222222222222222,\"#7201a8\"],[0.3333333333333333,\"#9c179e\"],[0.4444444444444444,\"#bd3786\"],[0.5555555555555556,\"#d8576b\"],[0.6666666666666666,\"#ed7953\"],[0.7777777777777778,\"#fb9f3a\"],[0.8888888888888888,\"#fdca26\"],[1.0,\"#f0f921\"]]}],\"choropleth\":[{\"type\":\"choropleth\",\"colorbar\":{\"outlinewidth\":0,\"ticks\":\"\"}}],\"histogram2d\":[{\"type\":\"histogram2d\",\"colorbar\":{\"outlinewidth\":0,\"ticks\":\"\"},\"colorscale\":[[0.0,\"#0d0887\"],[0.1111111111111111,\"#46039f\"],[0.2222222222222222,\"#7201a8\"],[0.3333333333333333,\"#9c179e\"],[0.4444444444444444,\"#bd3786\"],[0.5555555555555556,\"#d8576b\"],[0.6666666666666666,\"#ed7953\"],[0.7777777777777778,\"#fb9f3a\"],[0.8888888888888888,\"#fdca26\"],[1.0,\"#f0f921\"]]}],\"heatmap\":[{\"type\":\"heatmap\",\"colorbar\":{\"outlinewidth\":0,\"ticks\":\"\"},\"colorscale\":[[0.0,\"#0d0887\"],[0.1111111111111111,\"#46039f\"],[0.2222222222222222,\"#7201a8\"],[0.3333333333333333,\"#9c179e\"],[0.4444444444444444,\"#bd3786\"],[0.5555555555555556,\"#d8576b\"],[0.6666666666666666,\"#ed7953\"],[0.7777777777777778,\"#fb9f3a\"],[0.8888888888888888,\"#fdca26\"],[1.0,\"#f0f921\"]]}],\"heatmapgl\":[{\"type\":\"heatmapgl\",\"colorbar\":{\"outlinewidth\":0,\"ticks\":\"\"},\"colorscale\":[[0.0,\"#0d0887\"],[0.1111111111111111,\"#46039f\"],[0.2222222222222222,\"#7201a8\"],[0.3333333333333333,\"#9c179e\"],[0.4444444444444444,\"#bd3786\"],[0.5555555555555556,\"#d8576b\"],[0.6666666666666666,\"#ed7953\"],[0.7777777777777778,\"#fb9f3a\"],[0.8888888888888888,\"#fdca26\"],[1.0,\"#f0f921\"]]}],\"contourcarpet\":[{\"type\":\"contourcarpet\",\"colorbar\":{\"outlinewidth\":0,\"ticks\":\"\"}}],\"contour\":[{\"type\":\"contour\",\"colorbar\":{\"outlinewidth\":0,\"ticks\":\"\"},\"colorscale\":[[0.0,\"#0d0887\"],[0.1111111111111111,\"#46039f\"],[0.2222222222222222,\"#7201a8\"],[0.3333333333333333,\"#9c179e\"],[0.4444444444444444,\"#bd3786\"],[0.5555555555555556,\"#d8576b\"],[0.6666666666666666,\"#ed7953\"],[0.7777777777777778,\"#fb9f3a\"],[0.8888888888888888,\"#fdca26\"],[1.0,\"#f0f921\"]]}],\"surface\":[{\"type\":\"surface\",\"colorbar\":{\"outlinewidth\":0,\"ticks\":\"\"},\"colorscale\":[[0.0,\"#0d0887\"],[0.1111111111111111,\"#46039f\"],[0.2222222222222222,\"#7201a8\"],[0.3333333333333333,\"#9c179e\"],[0.4444444444444444,\"#bd3786\"],[0.5555555555555556,\"#d8576b\"],[0.6666666666666666,\"#ed7953\"],[0.7777777777777778,\"#fb9f3a\"],[0.8888888888888888,\"#fdca26\"],[1.0,\"#f0f921\"]]}],\"mesh3d\":[{\"type\":\"mesh3d\",\"colorbar\":{\"outlinewidth\":0,\"ticks\":\"\"}}],\"scatter\":[{\"fillpattern\":{\"fillmode\":\"overlay\",\"size\":10,\"solidity\":0.2},\"type\":\"scatter\"}],\"parcoords\":[{\"type\":\"parcoords\",\"line\":{\"colorbar\":{\"outlinewidth\":0,\"ticks\":\"\"}}}],\"scatterpolargl\":[{\"type\":\"scatterpolargl\",\"marker\":{\"colorbar\":{\"outlinewidth\":0,\"ticks\":\"\"}}}],\"bar\":[{\"error_x\":{\"color\":\"#2a3f5f\"},\"error_y\":{\"color\":\"#2a3f5f\"},\"marker\":{\"line\":{\"color\":\"#E5ECF6\",\"width\":0.5},\"pattern\":{\"fillmode\":\"overlay\",\"size\":10,\"solidity\":0.2}},\"type\":\"bar\"}],\"scattergeo\":[{\"type\":\"scattergeo\",\"marker\":{\"colorbar\":{\"outlinewidth\":0,\"ticks\":\"\"}}}],\"scatterpolar\":[{\"type\":\"scatterpolar\",\"marker\":{\"colorbar\":{\"outlinewidth\":0,\"ticks\":\"\"}}}],\"histogram\":[{\"marker\":{\"pattern\":{\"fillmode\":\"overlay\",\"size\":10,\"solidity\":0.2}},\"type\":\"histogram\"}],\"scattergl\":[{\"type\":\"scattergl\",\"marker\":{\"colorbar\":{\"outlinewidth\":0,\"ticks\":\"\"}}}],\"scatter3d\":[{\"type\":\"scatter3d\",\"line\":{\"colorbar\":{\"outlinewidth\":0,\"ticks\":\"\"}},\"marker\":{\"colorbar\":{\"outlinewidth\":0,\"ticks\":\"\"}}}],\"scattermapbox\":[{\"type\":\"scattermapbox\",\"marker\":{\"colorbar\":{\"outlinewidth\":0,\"ticks\":\"\"}}}],\"scatterternary\":[{\"type\":\"scatterternary\",\"marker\":{\"colorbar\":{\"outlinewidth\":0,\"ticks\":\"\"}}}],\"scattercarpet\":[{\"type\":\"scattercarpet\",\"marker\":{\"colorbar\":{\"outlinewidth\":0,\"ticks\":\"\"}}}],\"carpet\":[{\"aaxis\":{\"endlinecolor\":\"#2a3f5f\",\"gridcolor\":\"white\",\"linecolor\":\"white\",\"minorgridcolor\":\"white\",\"startlinecolor\":\"#2a3f5f\"},\"baxis\":{\"endlinecolor\":\"#2a3f5f\",\"gridcolor\":\"white\",\"linecolor\":\"white\",\"minorgridcolor\":\"white\",\"startlinecolor\":\"#2a3f5f\"},\"type\":\"carpet\"}],\"table\":[{\"cells\":{\"fill\":{\"color\":\"#EBF0F8\"},\"line\":{\"color\":\"white\"}},\"header\":{\"fill\":{\"color\":\"#C8D4E3\"},\"line\":{\"color\":\"white\"}},\"type\":\"table\"}],\"barpolar\":[{\"marker\":{\"line\":{\"color\":\"#E5ECF6\",\"width\":0.5},\"pattern\":{\"fillmode\":\"overlay\",\"size\":10,\"solidity\":0.2}},\"type\":\"barpolar\"}],\"pie\":[{\"automargin\":true,\"type\":\"pie\"}]},\"layout\":{\"autotypenumbers\":\"strict\",\"colorway\":[\"#636efa\",\"#EF553B\",\"#00cc96\",\"#ab63fa\",\"#FFA15A\",\"#19d3f3\",\"#FF6692\",\"#B6E880\",\"#FF97FF\",\"#FECB52\"],\"font\":{\"color\":\"#2a3f5f\"},\"hovermode\":\"closest\",\"hoverlabel\":{\"align\":\"left\"},\"paper_bgcolor\":\"white\",\"plot_bgcolor\":\"#E5ECF6\",\"polar\":{\"bgcolor\":\"#E5ECF6\",\"angularaxis\":{\"gridcolor\":\"white\",\"linecolor\":\"white\",\"ticks\":\"\"},\"radialaxis\":{\"gridcolor\":\"white\",\"linecolor\":\"white\",\"ticks\":\"\"}},\"ternary\":{\"bgcolor\":\"#E5ECF6\",\"aaxis\":{\"gridcolor\":\"white\",\"linecolor\":\"white\",\"ticks\":\"\"},\"baxis\":{\"gridcolor\":\"white\",\"linecolor\":\"white\",\"ticks\":\"\"},\"caxis\":{\"gridcolor\":\"white\",\"linecolor\":\"white\",\"ticks\":\"\"}},\"coloraxis\":{\"colorbar\":{\"outlinewidth\":0,\"ticks\":\"\"}},\"colorscale\":{\"sequential\":[[0.0,\"#0d0887\"],[0.1111111111111111,\"#46039f\"],[0.2222222222222222,\"#7201a8\"],[0.3333333333333333,\"#9c179e\"],[0.4444444444444444,\"#bd3786\"],[0.5555555555555556,\"#d8576b\"],[0.6666666666666666,\"#ed7953\"],[0.7777777777777778,\"#fb9f3a\"],[0.8888888888888888,\"#fdca26\"],[1.0,\"#f0f921\"]],\"sequentialminus\":[[0.0,\"#0d0887\"],[0.1111111111111111,\"#46039f\"],[0.2222222222222222,\"#7201a8\"],[0.3333333333333333,\"#9c179e\"],[0.4444444444444444,\"#bd3786\"],[0.5555555555555556,\"#d8576b\"],[0.6666666666666666,\"#ed7953\"],[0.7777777777777778,\"#fb9f3a\"],[0.8888888888888888,\"#fdca26\"],[1.0,\"#f0f921\"]],\"diverging\":[[0,\"#8e0152\"],[0.1,\"#c51b7d\"],[0.2,\"#de77ae\"],[0.3,\"#f1b6da\"],[0.4,\"#fde0ef\"],[0.5,\"#f7f7f7\"],[0.6,\"#e6f5d0\"],[0.7,\"#b8e186\"],[0.8,\"#7fbc41\"],[0.9,\"#4d9221\"],[1,\"#276419\"]]},\"xaxis\":{\"gridcolor\":\"white\",\"linecolor\":\"white\",\"ticks\":\"\",\"title\":{\"standoff\":15},\"zerolinecolor\":\"white\",\"automargin\":true,\"zerolinewidth\":2},\"yaxis\":{\"gridcolor\":\"white\",\"linecolor\":\"white\",\"ticks\":\"\",\"title\":{\"standoff\":15},\"zerolinecolor\":\"white\",\"automargin\":true,\"zerolinewidth\":2},\"scene\":{\"xaxis\":{\"backgroundcolor\":\"#E5ECF6\",\"gridcolor\":\"white\",\"linecolor\":\"white\",\"showbackground\":true,\"ticks\":\"\",\"zerolinecolor\":\"white\",\"gridwidth\":2},\"yaxis\":{\"backgroundcolor\":\"#E5ECF6\",\"gridcolor\":\"white\",\"linecolor\":\"white\",\"showbackground\":true,\"ticks\":\"\",\"zerolinecolor\":\"white\",\"gridwidth\":2},\"zaxis\":{\"backgroundcolor\":\"#E5ECF6\",\"gridcolor\":\"white\",\"linecolor\":\"white\",\"showbackground\":true,\"ticks\":\"\",\"zerolinecolor\":\"white\",\"gridwidth\":2}},\"shapedefaults\":{\"line\":{\"color\":\"#2a3f5f\"}},\"annotationdefaults\":{\"arrowcolor\":\"#2a3f5f\",\"arrowhead\":0,\"arrowwidth\":1},\"geo\":{\"bgcolor\":\"white\",\"landcolor\":\"#E5ECF6\",\"subunitcolor\":\"white\",\"showland\":true,\"showlakes\":true,\"lakecolor\":\"white\"},\"title\":{\"x\":0.05},\"mapbox\":{\"style\":\"light\"}}},\"xaxis\":{\"anchor\":\"y\",\"domain\":[0.0,1.0],\"title\":{\"text\":\"Customer Index\"}},\"yaxis\":{\"anchor\":\"x\",\"domain\":[0.0,1.0],\"title\":{\"text\":\"Credit Score\"}},\"legend\":{\"title\":{\"text\":\"Segment\"},\"tracegroupgap\":0},\"margin\":{\"t\":60},\"title\":{\"text\":\"Customer Segmentation based on Credit Scores\"}},                        {\"responsive\": true}                    ).then(function(){\n",
              "                            \n",
              "var gd = document.getElementById('58a2d221-0f3b-42d5-8c70-387717006596');\n",
              "var x = new MutationObserver(function (mutations, observer) {{\n",
              "        var display = window.getComputedStyle(gd).display;\n",
              "        if (!display || display === 'none') {{\n",
              "            console.log([gd, 'removed!']);\n",
              "            Plotly.purge(gd);\n",
              "            observer.disconnect();\n",
              "        }}\n",
              "}});\n",
              "\n",
              "// Listen for the removal of the full notebook cells\n",
              "var notebookContainer = gd.closest('#notebook-container');\n",
              "if (notebookContainer) {{\n",
              "    x.observe(notebookContainer, {childList: true});\n",
              "}}\n",
              "\n",
              "// Listen for the clearing of the current output cell\n",
              "var outputEl = gd.closest('.output');\n",
              "if (outputEl) {{\n",
              "    x.observe(outputEl, {childList: true});\n",
              "}}\n",
              "\n",
              "                        })                };                            </script>        </div>\n",
              "</body>\n",
              "</html>"
            ]
          },
          "metadata": {}
        }
      ]
    },
    {
      "cell_type": "code",
      "source": [],
      "metadata": {
        "id": "rKZz2Icx_o8O"
      },
      "execution_count": 22,
      "outputs": []
    }
  ]
}